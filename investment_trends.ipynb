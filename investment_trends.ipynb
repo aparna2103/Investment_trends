{
 "cells": [
  {
   "cell_type": "markdown",
   "metadata": {},
   "source": [
    "# Investment Analysis Assignment"
   ]
  },
  {
   "cell_type": "markdown",
   "metadata": {},
   "source": [
    "### Checkpoint 1: Data Cleaning 1"
   ]
  },
  {
   "cell_type": "code",
   "execution_count": 1,
   "metadata": {},
   "outputs": [],
   "source": [
    "#Importing libraries\n",
    "import numpy as np\n",
    "import pandas as pd\n",
    "import matplotlib.pyplot as plt\n",
    "%matplotlib inline\n",
    "import seaborn as sns"
   ]
  },
  {
   "cell_type": "code",
   "execution_count": 2,
   "metadata": {},
   "outputs": [],
   "source": [
    "# Loading Dataset\n",
    "companies = pd.read_csv(\"companies.csv\", encoding = \"ISO-8859-1\")\n",
    "rounds2 = pd.read_csv(\"rounds2.csv\", encoding = \"ISO-8859-1\")\n",
    "mapping = pd.read_csv(\"mapping.csv\", encoding = \"ISO-8859-1\")"
   ]
  },
  {
   "cell_type": "code",
   "execution_count": 3,
   "metadata": {},
   "outputs": [
    {
     "name": "stdout",
     "output_type": "stream",
     "text": [
      "<class 'pandas.core.frame.DataFrame'>\n",
      "RangeIndex: 66368 entries, 0 to 66367\n",
      "Data columns (total 10 columns):\n",
      " #   Column         Non-Null Count  Dtype \n",
      "---  ------         --------------  ----- \n",
      " 0   permalink      66368 non-null  object\n",
      " 1   name           66367 non-null  object\n",
      " 2   homepage_url   61310 non-null  object\n",
      " 3   category_list  63220 non-null  object\n",
      " 4   status         66368 non-null  object\n",
      " 5   country_code   59410 non-null  object\n",
      " 6   state_code     57821 non-null  object\n",
      " 7   region         58338 non-null  object\n",
      " 8   city           58340 non-null  object\n",
      " 9   founded_at     51147 non-null  object\n",
      "dtypes: object(10)\n",
      "memory usage: 2.5+ MB\n"
     ]
    }
   ],
   "source": [
    "companies.info()"
   ]
  },
  {
   "cell_type": "code",
   "execution_count": 4,
   "metadata": {},
   "outputs": [
    {
     "data": {
      "text/plain": [
       "66368"
      ]
     },
     "execution_count": 4,
     "metadata": {},
     "output_type": "execute_result"
    }
   ],
   "source": [
    "# Finding number of unique rows in permalink column\n",
    "len(companies.permalink.unique())"
   ]
  },
  {
   "cell_type": "code",
   "execution_count": 5,
   "metadata": {},
   "outputs": [
    {
     "name": "stdout",
     "output_type": "stream",
     "text": [
      "<class 'pandas.core.frame.DataFrame'>\n",
      "RangeIndex: 114949 entries, 0 to 114948\n",
      "Data columns (total 6 columns):\n",
      " #   Column                   Non-Null Count   Dtype  \n",
      "---  ------                   --------------   -----  \n",
      " 0   company_permalink        114949 non-null  object \n",
      " 1   funding_round_permalink  114949 non-null  object \n",
      " 2   funding_round_type       114949 non-null  object \n",
      " 3   funding_round_code       31140 non-null   object \n",
      " 4   funded_at                114949 non-null  object \n",
      " 5   raised_amount_usd        94959 non-null   float64\n",
      "dtypes: float64(1), object(5)\n",
      "memory usage: 3.1+ MB\n"
     ]
    }
   ],
   "source": [
    "rounds2.info()"
   ]
  },
  {
   "cell_type": "code",
   "execution_count": 6,
   "metadata": {},
   "outputs": [
    {
     "data": {
      "text/plain": [
       "90247"
      ]
     },
     "execution_count": 6,
     "metadata": {},
     "output_type": "execute_result"
    }
   ],
   "source": [
    "# Finding number of unique rows in company_permalink column\n",
    "len(rounds2.company_permalink.unique())"
   ]
  },
  {
   "cell_type": "code",
   "execution_count": 7,
   "metadata": {},
   "outputs": [
    {
     "data": {
      "text/html": [
       "<div>\n",
       "<style scoped>\n",
       "    .dataframe tbody tr th:only-of-type {\n",
       "        vertical-align: middle;\n",
       "    }\n",
       "\n",
       "    .dataframe tbody tr th {\n",
       "        vertical-align: top;\n",
       "    }\n",
       "\n",
       "    .dataframe thead th {\n",
       "        text-align: right;\n",
       "    }\n",
       "</style>\n",
       "<table border=\"1\" class=\"dataframe\">\n",
       "  <thead>\n",
       "    <tr style=\"text-align: right;\">\n",
       "      <th></th>\n",
       "      <th>company_permalink</th>\n",
       "      <th>funding_round_permalink</th>\n",
       "      <th>funding_round_type</th>\n",
       "      <th>funding_round_code</th>\n",
       "      <th>funded_at</th>\n",
       "      <th>raised_amount_usd</th>\n",
       "    </tr>\n",
       "  </thead>\n",
       "  <tbody>\n",
       "    <tr>\n",
       "      <th>0</th>\n",
       "      <td>/organization/-fame</td>\n",
       "      <td>/funding-round/9a01d05418af9f794eebff7ace91f638</td>\n",
       "      <td>venture</td>\n",
       "      <td>B</td>\n",
       "      <td>05-01-2015</td>\n",
       "      <td>10000000.0</td>\n",
       "    </tr>\n",
       "    <tr>\n",
       "      <th>1</th>\n",
       "      <td>/ORGANIZATION/-QOUNTER</td>\n",
       "      <td>/funding-round/22dacff496eb7acb2b901dec1dfe5633</td>\n",
       "      <td>venture</td>\n",
       "      <td>A</td>\n",
       "      <td>14-10-2014</td>\n",
       "      <td>NaN</td>\n",
       "    </tr>\n",
       "    <tr>\n",
       "      <th>2</th>\n",
       "      <td>/organization/-qounter</td>\n",
       "      <td>/funding-round/b44fbb94153f6cdef13083530bb48030</td>\n",
       "      <td>seed</td>\n",
       "      <td>NaN</td>\n",
       "      <td>01-03-2014</td>\n",
       "      <td>700000.0</td>\n",
       "    </tr>\n",
       "    <tr>\n",
       "      <th>3</th>\n",
       "      <td>/ORGANIZATION/-THE-ONE-OF-THEM-INC-</td>\n",
       "      <td>/funding-round/650b8f704416801069bb178a1418776b</td>\n",
       "      <td>venture</td>\n",
       "      <td>B</td>\n",
       "      <td>30-01-2014</td>\n",
       "      <td>3406878.0</td>\n",
       "    </tr>\n",
       "    <tr>\n",
       "      <th>4</th>\n",
       "      <td>/organization/0-6-com</td>\n",
       "      <td>/funding-round/5727accaeaa57461bd22a9bdd945382d</td>\n",
       "      <td>venture</td>\n",
       "      <td>A</td>\n",
       "      <td>19-03-2008</td>\n",
       "      <td>2000000.0</td>\n",
       "    </tr>\n",
       "  </tbody>\n",
       "</table>\n",
       "</div>"
      ],
      "text/plain": [
       "                     company_permalink  \\\n",
       "0                  /organization/-fame   \n",
       "1               /ORGANIZATION/-QOUNTER   \n",
       "2               /organization/-qounter   \n",
       "3  /ORGANIZATION/-THE-ONE-OF-THEM-INC-   \n",
       "4                /organization/0-6-com   \n",
       "\n",
       "                           funding_round_permalink funding_round_type  \\\n",
       "0  /funding-round/9a01d05418af9f794eebff7ace91f638            venture   \n",
       "1  /funding-round/22dacff496eb7acb2b901dec1dfe5633            venture   \n",
       "2  /funding-round/b44fbb94153f6cdef13083530bb48030               seed   \n",
       "3  /funding-round/650b8f704416801069bb178a1418776b            venture   \n",
       "4  /funding-round/5727accaeaa57461bd22a9bdd945382d            venture   \n",
       "\n",
       "  funding_round_code   funded_at  raised_amount_usd  \n",
       "0                  B  05-01-2015         10000000.0  \n",
       "1                  A  14-10-2014                NaN  \n",
       "2                NaN  01-03-2014           700000.0  \n",
       "3                  B  30-01-2014          3406878.0  \n",
       "4                  A  19-03-2008          2000000.0  "
      ]
     },
     "execution_count": 7,
     "metadata": {},
     "output_type": "execute_result"
    }
   ],
   "source": [
    "rounds2.head()"
   ]
  },
  {
   "cell_type": "code",
   "execution_count": 8,
   "metadata": {},
   "outputs": [
    {
     "data": {
      "text/html": [
       "<div>\n",
       "<style scoped>\n",
       "    .dataframe tbody tr th:only-of-type {\n",
       "        vertical-align: middle;\n",
       "    }\n",
       "\n",
       "    .dataframe tbody tr th {\n",
       "        vertical-align: top;\n",
       "    }\n",
       "\n",
       "    .dataframe thead th {\n",
       "        text-align: right;\n",
       "    }\n",
       "</style>\n",
       "<table border=\"1\" class=\"dataframe\">\n",
       "  <thead>\n",
       "    <tr style=\"text-align: right;\">\n",
       "      <th></th>\n",
       "      <th>permalink</th>\n",
       "      <th>name</th>\n",
       "      <th>homepage_url</th>\n",
       "      <th>category_list</th>\n",
       "      <th>status</th>\n",
       "      <th>country_code</th>\n",
       "      <th>state_code</th>\n",
       "      <th>region</th>\n",
       "      <th>city</th>\n",
       "      <th>founded_at</th>\n",
       "    </tr>\n",
       "  </thead>\n",
       "  <tbody>\n",
       "    <tr>\n",
       "      <th>0</th>\n",
       "      <td>/Organization/-Fame</td>\n",
       "      <td>#fame</td>\n",
       "      <td>http://livfame.com</td>\n",
       "      <td>Media</td>\n",
       "      <td>operating</td>\n",
       "      <td>IND</td>\n",
       "      <td>16</td>\n",
       "      <td>Mumbai</td>\n",
       "      <td>Mumbai</td>\n",
       "      <td>NaN</td>\n",
       "    </tr>\n",
       "    <tr>\n",
       "      <th>1</th>\n",
       "      <td>/Organization/-Qounter</td>\n",
       "      <td>:Qounter</td>\n",
       "      <td>http://www.qounter.com</td>\n",
       "      <td>Application Platforms|Real Time|Social Network...</td>\n",
       "      <td>operating</td>\n",
       "      <td>USA</td>\n",
       "      <td>DE</td>\n",
       "      <td>DE - Other</td>\n",
       "      <td>Delaware City</td>\n",
       "      <td>04-09-2014</td>\n",
       "    </tr>\n",
       "    <tr>\n",
       "      <th>2</th>\n",
       "      <td>/Organization/-The-One-Of-Them-Inc-</td>\n",
       "      <td>(THE) ONE of THEM,Inc.</td>\n",
       "      <td>http://oneofthem.jp</td>\n",
       "      <td>Apps|Games|Mobile</td>\n",
       "      <td>operating</td>\n",
       "      <td>NaN</td>\n",
       "      <td>NaN</td>\n",
       "      <td>NaN</td>\n",
       "      <td>NaN</td>\n",
       "      <td>NaN</td>\n",
       "    </tr>\n",
       "    <tr>\n",
       "      <th>3</th>\n",
       "      <td>/Organization/0-6-Com</td>\n",
       "      <td>0-6.com</td>\n",
       "      <td>http://www.0-6.com</td>\n",
       "      <td>Curated Web</td>\n",
       "      <td>operating</td>\n",
       "      <td>CHN</td>\n",
       "      <td>22</td>\n",
       "      <td>Beijing</td>\n",
       "      <td>Beijing</td>\n",
       "      <td>01-01-2007</td>\n",
       "    </tr>\n",
       "    <tr>\n",
       "      <th>4</th>\n",
       "      <td>/Organization/004-Technologies</td>\n",
       "      <td>004 Technologies</td>\n",
       "      <td>http://004gmbh.de/en/004-interact</td>\n",
       "      <td>Software</td>\n",
       "      <td>operating</td>\n",
       "      <td>USA</td>\n",
       "      <td>IL</td>\n",
       "      <td>Springfield, Illinois</td>\n",
       "      <td>Champaign</td>\n",
       "      <td>01-01-2010</td>\n",
       "    </tr>\n",
       "  </tbody>\n",
       "</table>\n",
       "</div>"
      ],
      "text/plain": [
       "                             permalink                    name  \\\n",
       "0                  /Organization/-Fame                   #fame   \n",
       "1               /Organization/-Qounter                :Qounter   \n",
       "2  /Organization/-The-One-Of-Them-Inc-  (THE) ONE of THEM,Inc.   \n",
       "3                /Organization/0-6-Com                 0-6.com   \n",
       "4       /Organization/004-Technologies        004 Technologies   \n",
       "\n",
       "                        homepage_url  \\\n",
       "0                 http://livfame.com   \n",
       "1             http://www.qounter.com   \n",
       "2                http://oneofthem.jp   \n",
       "3                 http://www.0-6.com   \n",
       "4  http://004gmbh.de/en/004-interact   \n",
       "\n",
       "                                       category_list     status country_code  \\\n",
       "0                                              Media  operating          IND   \n",
       "1  Application Platforms|Real Time|Social Network...  operating          USA   \n",
       "2                                  Apps|Games|Mobile  operating          NaN   \n",
       "3                                        Curated Web  operating          CHN   \n",
       "4                                           Software  operating          USA   \n",
       "\n",
       "  state_code                 region           city  founded_at  \n",
       "0         16                 Mumbai         Mumbai         NaN  \n",
       "1         DE             DE - Other  Delaware City  04-09-2014  \n",
       "2        NaN                    NaN            NaN         NaN  \n",
       "3         22                Beijing        Beijing  01-01-2007  \n",
       "4         IL  Springfield, Illinois      Champaign  01-01-2010  "
      ]
     },
     "execution_count": 8,
     "metadata": {},
     "output_type": "execute_result"
    }
   ],
   "source": [
    "companies.head()"
   ]
  },
  {
   "cell_type": "code",
   "execution_count": 9,
   "metadata": {},
   "outputs": [],
   "source": [
    "# As you can see in above tables, few rows of \"permalink\" in companies and few rows of \"company_permalink\" in rounds2 are same \n",
    "# but are in different case. Example:\n",
    "'''\n",
    "Second row in companies is : /Organization/-Qounter\n",
    "Second row in rounds2 is : /ORGANIZATION/-QOUNTER\n",
    "Both are same, but one is in capitals and other is having small letters. \n",
    "\n",
    "So convert the two columns to lowercase\n",
    "'''\n",
    "rounds2[\"company_permalink\"] = rounds2[\"company_permalink\"].str.lower()\n",
    "companies[\"permalink\"] = companies[\"permalink\"].str.lower()\n"
   ]
  },
  {
   "cell_type": "markdown",
   "metadata": {},
   "source": [
    "Any companies present in rounds2 file which are not present in companies?\n",
    "\n",
    "Answer: <b>Yes</b>\n",
    "\n",
    "Reason: The number of unique companies in rounds2 is greater than number of unique companies in companies"
   ]
  },
  {
   "cell_type": "code",
   "execution_count": 10,
   "metadata": {},
   "outputs": [],
   "source": [
    "# Merging the two dataframes companies and round2\n",
    "master_frame=pd.merge(rounds2,companies,how=\"left\",left_on=\"company_permalink\",right_on=\"permalink\")"
   ]
  },
  {
   "cell_type": "code",
   "execution_count": 11,
   "metadata": {},
   "outputs": [
    {
     "data": {
      "text/plain": [
       "(114949, 16)"
      ]
     },
     "execution_count": 11,
     "metadata": {},
     "output_type": "execute_result"
    }
   ],
   "source": [
    "master_frame.shape  # Observations present in master frame"
   ]
  },
  {
   "cell_type": "code",
   "execution_count": 12,
   "metadata": {},
   "outputs": [
    {
     "data": {
      "text/html": [
       "<div>\n",
       "<style scoped>\n",
       "    .dataframe tbody tr th:only-of-type {\n",
       "        vertical-align: middle;\n",
       "    }\n",
       "\n",
       "    .dataframe tbody tr th {\n",
       "        vertical-align: top;\n",
       "    }\n",
       "\n",
       "    .dataframe thead th {\n",
       "        text-align: right;\n",
       "    }\n",
       "</style>\n",
       "<table border=\"1\" class=\"dataframe\">\n",
       "  <thead>\n",
       "    <tr style=\"text-align: right;\">\n",
       "      <th></th>\n",
       "      <th>company_permalink</th>\n",
       "      <th>funding_round_permalink</th>\n",
       "      <th>funding_round_type</th>\n",
       "      <th>funding_round_code</th>\n",
       "      <th>funded_at</th>\n",
       "      <th>raised_amount_usd</th>\n",
       "      <th>permalink</th>\n",
       "      <th>name</th>\n",
       "      <th>homepage_url</th>\n",
       "      <th>category_list</th>\n",
       "      <th>status</th>\n",
       "      <th>country_code</th>\n",
       "      <th>state_code</th>\n",
       "      <th>region</th>\n",
       "      <th>city</th>\n",
       "      <th>founded_at</th>\n",
       "    </tr>\n",
       "  </thead>\n",
       "  <tbody>\n",
       "    <tr>\n",
       "      <th>0</th>\n",
       "      <td>/organization/-fame</td>\n",
       "      <td>/funding-round/9a01d05418af9f794eebff7ace91f638</td>\n",
       "      <td>venture</td>\n",
       "      <td>B</td>\n",
       "      <td>05-01-2015</td>\n",
       "      <td>10000000.0</td>\n",
       "      <td>/organization/-fame</td>\n",
       "      <td>#fame</td>\n",
       "      <td>http://livfame.com</td>\n",
       "      <td>Media</td>\n",
       "      <td>operating</td>\n",
       "      <td>IND</td>\n",
       "      <td>16</td>\n",
       "      <td>Mumbai</td>\n",
       "      <td>Mumbai</td>\n",
       "      <td>NaN</td>\n",
       "    </tr>\n",
       "    <tr>\n",
       "      <th>1</th>\n",
       "      <td>/organization/-qounter</td>\n",
       "      <td>/funding-round/22dacff496eb7acb2b901dec1dfe5633</td>\n",
       "      <td>venture</td>\n",
       "      <td>A</td>\n",
       "      <td>14-10-2014</td>\n",
       "      <td>NaN</td>\n",
       "      <td>/organization/-qounter</td>\n",
       "      <td>:Qounter</td>\n",
       "      <td>http://www.qounter.com</td>\n",
       "      <td>Application Platforms|Real Time|Social Network...</td>\n",
       "      <td>operating</td>\n",
       "      <td>USA</td>\n",
       "      <td>DE</td>\n",
       "      <td>DE - Other</td>\n",
       "      <td>Delaware City</td>\n",
       "      <td>04-09-2014</td>\n",
       "    </tr>\n",
       "    <tr>\n",
       "      <th>2</th>\n",
       "      <td>/organization/-qounter</td>\n",
       "      <td>/funding-round/b44fbb94153f6cdef13083530bb48030</td>\n",
       "      <td>seed</td>\n",
       "      <td>NaN</td>\n",
       "      <td>01-03-2014</td>\n",
       "      <td>700000.0</td>\n",
       "      <td>/organization/-qounter</td>\n",
       "      <td>:Qounter</td>\n",
       "      <td>http://www.qounter.com</td>\n",
       "      <td>Application Platforms|Real Time|Social Network...</td>\n",
       "      <td>operating</td>\n",
       "      <td>USA</td>\n",
       "      <td>DE</td>\n",
       "      <td>DE - Other</td>\n",
       "      <td>Delaware City</td>\n",
       "      <td>04-09-2014</td>\n",
       "    </tr>\n",
       "    <tr>\n",
       "      <th>3</th>\n",
       "      <td>/organization/-the-one-of-them-inc-</td>\n",
       "      <td>/funding-round/650b8f704416801069bb178a1418776b</td>\n",
       "      <td>venture</td>\n",
       "      <td>B</td>\n",
       "      <td>30-01-2014</td>\n",
       "      <td>3406878.0</td>\n",
       "      <td>/organization/-the-one-of-them-inc-</td>\n",
       "      <td>(THE) ONE of THEM,Inc.</td>\n",
       "      <td>http://oneofthem.jp</td>\n",
       "      <td>Apps|Games|Mobile</td>\n",
       "      <td>operating</td>\n",
       "      <td>NaN</td>\n",
       "      <td>NaN</td>\n",
       "      <td>NaN</td>\n",
       "      <td>NaN</td>\n",
       "      <td>NaN</td>\n",
       "    </tr>\n",
       "    <tr>\n",
       "      <th>4</th>\n",
       "      <td>/organization/0-6-com</td>\n",
       "      <td>/funding-round/5727accaeaa57461bd22a9bdd945382d</td>\n",
       "      <td>venture</td>\n",
       "      <td>A</td>\n",
       "      <td>19-03-2008</td>\n",
       "      <td>2000000.0</td>\n",
       "      <td>/organization/0-6-com</td>\n",
       "      <td>0-6.com</td>\n",
       "      <td>http://www.0-6.com</td>\n",
       "      <td>Curated Web</td>\n",
       "      <td>operating</td>\n",
       "      <td>CHN</td>\n",
       "      <td>22</td>\n",
       "      <td>Beijing</td>\n",
       "      <td>Beijing</td>\n",
       "      <td>01-01-2007</td>\n",
       "    </tr>\n",
       "  </tbody>\n",
       "</table>\n",
       "</div>"
      ],
      "text/plain": [
       "                     company_permalink  \\\n",
       "0                  /organization/-fame   \n",
       "1               /organization/-qounter   \n",
       "2               /organization/-qounter   \n",
       "3  /organization/-the-one-of-them-inc-   \n",
       "4                /organization/0-6-com   \n",
       "\n",
       "                           funding_round_permalink funding_round_type  \\\n",
       "0  /funding-round/9a01d05418af9f794eebff7ace91f638            venture   \n",
       "1  /funding-round/22dacff496eb7acb2b901dec1dfe5633            venture   \n",
       "2  /funding-round/b44fbb94153f6cdef13083530bb48030               seed   \n",
       "3  /funding-round/650b8f704416801069bb178a1418776b            venture   \n",
       "4  /funding-round/5727accaeaa57461bd22a9bdd945382d            venture   \n",
       "\n",
       "  funding_round_code   funded_at  raised_amount_usd  \\\n",
       "0                  B  05-01-2015         10000000.0   \n",
       "1                  A  14-10-2014                NaN   \n",
       "2                NaN  01-03-2014           700000.0   \n",
       "3                  B  30-01-2014          3406878.0   \n",
       "4                  A  19-03-2008          2000000.0   \n",
       "\n",
       "                             permalink                    name  \\\n",
       "0                  /organization/-fame                   #fame   \n",
       "1               /organization/-qounter                :Qounter   \n",
       "2               /organization/-qounter                :Qounter   \n",
       "3  /organization/-the-one-of-them-inc-  (THE) ONE of THEM,Inc.   \n",
       "4                /organization/0-6-com                 0-6.com   \n",
       "\n",
       "             homepage_url                                      category_list  \\\n",
       "0      http://livfame.com                                              Media   \n",
       "1  http://www.qounter.com  Application Platforms|Real Time|Social Network...   \n",
       "2  http://www.qounter.com  Application Platforms|Real Time|Social Network...   \n",
       "3     http://oneofthem.jp                                  Apps|Games|Mobile   \n",
       "4      http://www.0-6.com                                        Curated Web   \n",
       "\n",
       "      status country_code state_code      region           city  founded_at  \n",
       "0  operating          IND         16      Mumbai         Mumbai         NaN  \n",
       "1  operating          USA         DE  DE - Other  Delaware City  04-09-2014  \n",
       "2  operating          USA         DE  DE - Other  Delaware City  04-09-2014  \n",
       "3  operating          NaN        NaN         NaN            NaN         NaN  \n",
       "4  operating          CHN         22     Beijing        Beijing  01-01-2007  "
      ]
     },
     "execution_count": 12,
     "metadata": {},
     "output_type": "execute_result"
    }
   ],
   "source": [
    "master_frame.head()"
   ]
  },
  {
   "cell_type": "markdown",
   "metadata": {},
   "source": [
    "### Data Cleaning"
   ]
  },
  {
   "cell_type": "code",
   "execution_count": 13,
   "metadata": {},
   "outputs": [
    {
     "data": {
      "text/plain": [
       "company_permalink              0\n",
       "funding_round_permalink        0\n",
       "funding_round_type             0\n",
       "funding_round_code         83809\n",
       "funded_at                      0\n",
       "raised_amount_usd          19990\n",
       "permalink                      7\n",
       "name                           8\n",
       "homepage_url                6139\n",
       "category_list               3414\n",
       "status                         7\n",
       "country_code                8678\n",
       "state_code                 10946\n",
       "region                     10167\n",
       "city                       10164\n",
       "founded_at                 20527\n",
       "dtype: int64"
      ]
     },
     "execution_count": 13,
     "metadata": {},
     "output_type": "execute_result"
    }
   ],
   "source": [
    "# get sum of null rows in each column\n",
    "master_frame.isnull().sum()"
   ]
  },
  {
   "cell_type": "code",
   "execution_count": 14,
   "metadata": {},
   "outputs": [
    {
     "data": {
      "text/plain": [
       "company_permalink           0.00\n",
       "funding_round_permalink     0.00\n",
       "funding_round_type          0.00\n",
       "funding_round_code         72.91\n",
       "funded_at                   0.00\n",
       "raised_amount_usd          17.39\n",
       "permalink                   0.01\n",
       "name                        0.01\n",
       "homepage_url                5.34\n",
       "category_list               2.97\n",
       "status                      0.01\n",
       "country_code                7.55\n",
       "state_code                  9.52\n",
       "region                      8.84\n",
       "city                        8.84\n",
       "founded_at                 17.86\n",
       "dtype: float64"
      ]
     },
     "execution_count": 14,
     "metadata": {},
     "output_type": "execute_result"
    }
   ],
   "source": [
    "# Seeing the percentage of null values in each column\n",
    "round(100*(master_frame.isnull().sum()/len(master_frame.index)), 2)"
   ]
  },
  {
   "cell_type": "markdown",
   "metadata": {},
   "source": [
    "###### Removing funding_round_code column"
   ]
  },
  {
   "cell_type": "code",
   "execution_count": 15,
   "metadata": {},
   "outputs": [],
   "source": [
    "''' \n",
    "funding_round_code is accounts for 72.91% of missing data. We cannot remove these many rows. So removing the column. \n",
    "'''\n",
    "master_frame = master_frame.drop('funding_round_code', axis=1)"
   ]
  },
  {
   "cell_type": "code",
   "execution_count": 16,
   "metadata": {},
   "outputs": [
    {
     "data": {
      "text/plain": [
       "company_permalink           0.00\n",
       "funding_round_permalink     0.00\n",
       "funding_round_type          0.00\n",
       "funded_at                   0.00\n",
       "raised_amount_usd          17.39\n",
       "permalink                   0.01\n",
       "name                        0.01\n",
       "homepage_url                5.34\n",
       "category_list               2.97\n",
       "status                      0.01\n",
       "country_code                7.55\n",
       "state_code                  9.52\n",
       "region                      8.84\n",
       "city                        8.84\n",
       "founded_at                 17.86\n",
       "dtype: float64"
      ]
     },
     "execution_count": 16,
     "metadata": {},
     "output_type": "execute_result"
    }
   ],
   "source": [
    "# Seeing the percentage of null values in each column\n",
    "round(100*(master_frame.isnull().sum()/len(master_frame.index)), 2)"
   ]
  },
  {
   "cell_type": "markdown",
   "metadata": {},
   "source": [
    "###### Removing founded_at column"
   ]
  },
  {
   "cell_type": "code",
   "execution_count": 17,
   "metadata": {},
   "outputs": [],
   "source": [
    "''' \n",
    "founded_at is accounts for 17.86% of missing data. This column is not at all needed for analysis\n",
    "'''\n",
    "master_frame = master_frame.drop('founded_at', axis=1)"
   ]
  },
  {
   "cell_type": "code",
   "execution_count": 18,
   "metadata": {},
   "outputs": [
    {
     "data": {
      "text/plain": [
       "company_permalink           0.00\n",
       "funding_round_permalink     0.00\n",
       "funding_round_type          0.00\n",
       "funded_at                   0.00\n",
       "raised_amount_usd          17.39\n",
       "permalink                   0.01\n",
       "name                        0.01\n",
       "homepage_url                5.34\n",
       "category_list               2.97\n",
       "status                      0.01\n",
       "country_code                7.55\n",
       "state_code                  9.52\n",
       "region                      8.84\n",
       "city                        8.84\n",
       "dtype: float64"
      ]
     },
     "execution_count": 18,
     "metadata": {},
     "output_type": "execute_result"
    }
   ],
   "source": [
    "# Seeing the percentage of null values in each column\n",
    "round(100*(master_frame.isnull().sum()/len(master_frame.index)), 2)"
   ]
  },
  {
   "cell_type": "markdown",
   "metadata": {},
   "source": [
    "###### Removing rows where raised_amount_usd is null"
   ]
  },
  {
   "cell_type": "code",
   "execution_count": 19,
   "metadata": {},
   "outputs": [],
   "source": [
    "''' \n",
    "raised_amount_usd is accounts for 17.39% of missing data. Since this column is needed for analysis, \n",
    "we cannot remove this column. We can impute these based on its funding type and country (groupby funding type and country\n",
    "and assign the value of median of other rows). \n",
    "\n",
    "But here im choosing to remove these rows as there are only 19990 of them \n",
    "'''\n",
    "master_frame = master_frame[(pd.notnull(master_frame['raised_amount_usd']))]"
   ]
  },
  {
   "cell_type": "code",
   "execution_count": 20,
   "metadata": {},
   "outputs": [
    {
     "data": {
      "text/plain": [
       "company_permalink          0.00\n",
       "funding_round_permalink    0.00\n",
       "funding_round_type         0.00\n",
       "funded_at                  0.00\n",
       "raised_amount_usd          0.00\n",
       "permalink                  0.00\n",
       "name                       0.00\n",
       "homepage_url               4.56\n",
       "category_list              1.10\n",
       "status                     0.00\n",
       "country_code               6.16\n",
       "state_code                 8.01\n",
       "region                     7.42\n",
       "city                       7.42\n",
       "dtype: float64"
      ]
     },
     "execution_count": 20,
     "metadata": {},
     "output_type": "execute_result"
    }
   ],
   "source": [
    "# Seeing the percentage of null values in each column\n",
    "round(100*(master_frame.isnull().sum()/len(master_frame.index)), 2)"
   ]
  },
  {
   "cell_type": "markdown",
   "metadata": {},
   "source": [
    "###### Removing rows where category_list is null"
   ]
  },
  {
   "cell_type": "code",
   "execution_count": 21,
   "metadata": {},
   "outputs": [],
   "source": [
    "''' \n",
    "category_list is accounts for 1.10% of missing data. Since this column is needed for analysis, \n",
    "we cannot remove this column. I think we cannot impute the values for this column statistically as it requires \n",
    "the knowledge of the companies.\n",
    "\n",
    "So, im choosing to remove these rows where category_list is null\n",
    "'''\n",
    "master_frame = master_frame[(pd.notnull(master_frame['category_list']))]"
   ]
  },
  {
   "cell_type": "code",
   "execution_count": 22,
   "metadata": {},
   "outputs": [
    {
     "data": {
      "text/plain": [
       "company_permalink          0.00\n",
       "funding_round_permalink    0.00\n",
       "funding_round_type         0.00\n",
       "funded_at                  0.00\n",
       "raised_amount_usd          0.00\n",
       "permalink                  0.00\n",
       "name                       0.00\n",
       "homepage_url               4.27\n",
       "category_list              0.00\n",
       "status                     0.00\n",
       "country_code               5.73\n",
       "state_code                 7.58\n",
       "region                     6.99\n",
       "city                       6.99\n",
       "dtype: float64"
      ]
     },
     "execution_count": 22,
     "metadata": {},
     "output_type": "execute_result"
    }
   ],
   "source": [
    "# Seeing the percentage of null values in each column\n",
    "round(100*(master_frame.isnull().sum()/len(master_frame.index)), 2)"
   ]
  },
  {
   "cell_type": "markdown",
   "metadata": {},
   "source": [
    "###### Removing rows where country_code is null"
   ]
  },
  {
   "cell_type": "code",
   "execution_count": 23,
   "metadata": {},
   "outputs": [
    {
     "data": {
      "text/html": [
       "<div>\n",
       "<style scoped>\n",
       "    .dataframe tbody tr th:only-of-type {\n",
       "        vertical-align: middle;\n",
       "    }\n",
       "\n",
       "    .dataframe tbody tr th {\n",
       "        vertical-align: top;\n",
       "    }\n",
       "\n",
       "    .dataframe thead th {\n",
       "        text-align: right;\n",
       "    }\n",
       "</style>\n",
       "<table border=\"1\" class=\"dataframe\">\n",
       "  <thead>\n",
       "    <tr style=\"text-align: right;\">\n",
       "      <th></th>\n",
       "      <th>company_permalink</th>\n",
       "      <th>funding_round_permalink</th>\n",
       "      <th>funding_round_type</th>\n",
       "      <th>funded_at</th>\n",
       "      <th>raised_amount_usd</th>\n",
       "      <th>permalink</th>\n",
       "      <th>name</th>\n",
       "      <th>homepage_url</th>\n",
       "      <th>category_list</th>\n",
       "      <th>status</th>\n",
       "      <th>country_code</th>\n",
       "      <th>state_code</th>\n",
       "      <th>region</th>\n",
       "      <th>city</th>\n",
       "    </tr>\n",
       "  </thead>\n",
       "  <tbody>\n",
       "  </tbody>\n",
       "</table>\n",
       "</div>"
      ],
      "text/plain": [
       "Empty DataFrame\n",
       "Columns: [company_permalink, funding_round_permalink, funding_round_type, funded_at, raised_amount_usd, permalink, name, homepage_url, category_list, status, country_code, state_code, region, city]\n",
       "Index: []"
      ]
     },
     "execution_count": 23,
     "metadata": {},
     "output_type": "execute_result"
    }
   ],
   "source": [
    "# there are few missing entries in country_code, let's see if we can fill the values\n",
    "''' We can see if region is present for the rows where country code is NaN. If region is present, we can impute country \n",
    "code based on region '''\n",
    "\n",
    "master_frame[(pd.isnull(master_frame['country_code'])) & (pd.notnull(master_frame['region']))] # => no rows"
   ]
  },
  {
   "cell_type": "code",
   "execution_count": 24,
   "metadata": {},
   "outputs": [],
   "source": [
    "'''\n",
    "From above, we can see that for all rows where country_code is null, region is also null. So to impute country_code, we\n",
    "need to have knowledge about the company. \n",
    "\n",
    "Here, i'm choosing to remove rows where country code is null\n",
    "'''\n",
    "\n",
    "master_frame = master_frame[(pd.notnull(master_frame['country_code']))]"
   ]
  },
  {
   "cell_type": "code",
   "execution_count": 25,
   "metadata": {},
   "outputs": [
    {
     "data": {
      "text/plain": [
       "company_permalink          0.00\n",
       "funding_round_permalink    0.00\n",
       "funding_round_type         0.00\n",
       "funded_at                  0.00\n",
       "raised_amount_usd          0.00\n",
       "permalink                  0.00\n",
       "name                       0.00\n",
       "homepage_url               3.67\n",
       "category_list              0.00\n",
       "status                     0.00\n",
       "country_code               0.00\n",
       "state_code                 1.96\n",
       "region                     1.34\n",
       "city                       1.33\n",
       "dtype: float64"
      ]
     },
     "execution_count": 25,
     "metadata": {},
     "output_type": "execute_result"
    }
   ],
   "source": [
    "# Seeing the percentage of null values in each column\n",
    "round(100*(master_frame.isnull().sum()/len(master_frame.index)), 2)"
   ]
  },
  {
   "cell_type": "markdown",
   "metadata": {},
   "source": [
    "now the columns 'homepage_url', 'state_code', 'region', 'city' are having null values. Since these four columns are not required for analysis, let them be like that (since they are of very low percentage). We can also choose to remove, but either way it will not effect our analysis. Now our data cleaning is completed."
   ]
  },
  {
   "cell_type": "markdown",
   "metadata": {},
   "source": [
    "### Checkpoint 2: Funding Type Analysis"
   ]
  },
  {
   "cell_type": "code",
   "execution_count": 26,
   "metadata": {},
   "outputs": [
    {
     "data": {
      "text/plain": [
       "funding_round_type\n",
       "angel                    9.715739e+05\n",
       "convertible_note         1.337187e+06\n",
       "debt_financing           1.716765e+07\n",
       "equity_crowdfunding      5.098980e+05\n",
       "grant                    4.512698e+06\n",
       "non_equity_assistance    4.807534e+05\n",
       "post_ipo_debt            1.694518e+08\n",
       "post_ipo_equity          6.607706e+07\n",
       "private_equity           7.393849e+07\n",
       "product_crowdfunding     1.353227e+06\n",
       "secondary_market         8.443853e+07\n",
       "seed                     7.477937e+05\n",
       "undisclosed              1.589166e+07\n",
       "venture                  1.172422e+07\n",
       "Name: raised_amount_usd, dtype: float64"
      ]
     },
     "execution_count": 26,
     "metadata": {},
     "output_type": "execute_result"
    }
   ],
   "source": [
    "'''\n",
    "Since Spark Funds wants to choose one of these four investment types for each potential investment they will make, let's \n",
    "compute the average of funcding types\n",
    "''' \n",
    "funding_avg = master_frame.groupby('funding_round_type')['raised_amount_usd'].agg(np.mean)\n",
    "funding_avg"
   ]
  },
  {
   "cell_type": "code",
   "execution_count": 27,
   "metadata": {},
   "outputs": [],
   "source": [
    "'''\n",
    "As you can see, there are more funding types in master_frame than required. \n",
    "Since we require only 'seed','angel','venture','private_equity', removing all other rows with different funding type. \n",
    "\n",
    "Though this doesn't make a difference in averages, there will be clarity in the view\n",
    "'''\n",
    "\n",
    "master_frame=master_frame[master_frame['funding_round_type'].isin(['seed','angel','venture','private_equity'])]"
   ]
  },
  {
   "cell_type": "code",
   "execution_count": 28,
   "metadata": {},
   "outputs": [
    {
     "data": {
      "text/plain": [
       "funding_round_type\n",
       "angel             9.715739e+05\n",
       "private_equity    7.393849e+07\n",
       "seed              7.477937e+05\n",
       "venture           1.172422e+07\n",
       "Name: raised_amount_usd, dtype: float64"
      ]
     },
     "execution_count": 28,
     "metadata": {},
     "output_type": "execute_result"
    }
   ],
   "source": [
    "# Now finding funding average\n",
    "funding_avg = master_frame.groupby('funding_round_type')['raised_amount_usd'].agg(np.mean)\n",
    "funding_avg"
   ]
  },
  {
   "cell_type": "code",
   "execution_count": 29,
   "metadata": {},
   "outputs": [
    {
     "data": {
      "text/plain": [
       "[971573.8911363636, 73938486.27527472, 747793.6824840009, 11724222.690204773]"
      ]
     },
     "execution_count": 29,
     "metadata": {},
     "output_type": "execute_result"
    }
   ],
   "source": [
    "list(funding_avg)"
   ]
  },
  {
   "cell_type": "markdown",
   "metadata": {},
   "source": [
    "As you can see above, <b>Venture</b> type funding is suitable for spark funds as it is between 5 million USD to 15 million USD"
   ]
  },
  {
   "cell_type": "markdown",
   "metadata": {},
   "source": [
    "### Checkpoint 3: Country Analysis"
   ]
  },
  {
   "cell_type": "markdown",
   "metadata": {},
   "source": [
    "Since we know the funding type, let's narrow down dataframe which has only venture funding type."
   ]
  },
  {
   "cell_type": "code",
   "execution_count": 30,
   "metadata": {},
   "outputs": [],
   "source": [
    "venture_frame = master_frame[master_frame[\"funding_round_type\"]==\"venture\"]"
   ]
  },
  {
   "cell_type": "code",
   "execution_count": 31,
   "metadata": {},
   "outputs": [
    {
     "data": {
      "text/plain": [
       "(47809, 14)"
      ]
     },
     "execution_count": 31,
     "metadata": {},
     "output_type": "execute_result"
    }
   ],
   "source": [
    "venture_frame.shape"
   ]
  },
  {
   "cell_type": "code",
   "execution_count": 32,
   "metadata": {},
   "outputs": [
    {
     "data": {
      "text/plain": [
       "country_code\n",
       "USA    4.200680e+11\n",
       "CHN    3.933892e+10\n",
       "GBR    2.007281e+10\n",
       "IND    1.426151e+10\n",
       "CAN    9.482218e+09\n",
       "FRA    7.226851e+09\n",
       "ISR    6.854350e+09\n",
       "DEU    6.306922e+09\n",
       "JPN    3.167647e+09\n",
       "Name: raised_amount_usd, dtype: float64"
      ]
     },
     "execution_count": 32,
     "metadata": {},
     "output_type": "execute_result"
    }
   ],
   "source": [
    "top9_country_average = venture_frame.groupby('country_code')['raised_amount_usd'].sum().sort_values(ascending=False).head(9)\n",
    "top9_country_average"
   ]
  },
  {
   "cell_type": "markdown",
   "metadata": {},
   "source": [
    "Now top 9 countries are \"USA\",\"CHN\",\"GBR\",\"IND\",\"CAN\",\"FRA\",\"ISR\",\"DEU\",\"JPN\". Now let's make a dataframe <b>top9</b> with only these countries"
   ]
  },
  {
   "cell_type": "code",
   "execution_count": 33,
   "metadata": {},
   "outputs": [],
   "source": [
    "top9 = venture_frame[venture_frame['country_code'].isin([\"USA\",\"CHN\",\"GBR\",\"IND\",\"CAN\",\"FRA\",\"ISR\",\"DEU\",\"JPN\"])]"
   ]
  },
  {
   "cell_type": "code",
   "execution_count": 34,
   "metadata": {},
   "outputs": [
    {
     "data": {
      "text/plain": [
       "(44118, 14)"
      ]
     },
     "execution_count": 34,
     "metadata": {},
     "output_type": "execute_result"
    }
   ],
   "source": [
    "top9.shape"
   ]
  },
  {
   "cell_type": "markdown",
   "metadata": {},
   "source": [
    "Since Spark Funds wants to invest only in English Speaking Countries, we can see that top three english speaking countries are\n",
    "<b>USA</b>, <b>GBR</b>, <b>IND</b>"
   ]
  },
  {
   "cell_type": "markdown",
   "metadata": {},
   "source": [
    "### Checkpoint 4: Sector Analysis 1"
   ]
  },
  {
   "cell_type": "markdown",
   "metadata": {},
   "source": [
    "Here,we need to map primary sector with main sector."
   ]
  },
  {
   "cell_type": "code",
   "execution_count": null,
   "metadata": {},
   "outputs": [],
   "source": [
    "# Creating primary sector column\n",
    "top9['primary_sector'] =top9['category_list'].apply(lambda x: x.split('|')[0])"
   ]
  },
  {
   "cell_type": "code",
   "execution_count": 36,
   "metadata": {},
   "outputs": [
    {
     "data": {
      "text/html": [
       "<div>\n",
       "<style scoped>\n",
       "    .dataframe tbody tr th:only-of-type {\n",
       "        vertical-align: middle;\n",
       "    }\n",
       "\n",
       "    .dataframe tbody tr th {\n",
       "        vertical-align: top;\n",
       "    }\n",
       "\n",
       "    .dataframe thead th {\n",
       "        text-align: right;\n",
       "    }\n",
       "</style>\n",
       "<table border=\"1\" class=\"dataframe\">\n",
       "  <thead>\n",
       "    <tr style=\"text-align: right;\">\n",
       "      <th></th>\n",
       "      <th>company_permalink</th>\n",
       "      <th>funding_round_permalink</th>\n",
       "      <th>funding_round_type</th>\n",
       "      <th>funded_at</th>\n",
       "      <th>raised_amount_usd</th>\n",
       "      <th>permalink</th>\n",
       "      <th>name</th>\n",
       "      <th>homepage_url</th>\n",
       "      <th>category_list</th>\n",
       "      <th>status</th>\n",
       "      <th>country_code</th>\n",
       "      <th>state_code</th>\n",
       "      <th>region</th>\n",
       "      <th>city</th>\n",
       "      <th>primary_sector</th>\n",
       "    </tr>\n",
       "  </thead>\n",
       "  <tbody>\n",
       "    <tr>\n",
       "      <th>0</th>\n",
       "      <td>/organization/-fame</td>\n",
       "      <td>/funding-round/9a01d05418af9f794eebff7ace91f638</td>\n",
       "      <td>venture</td>\n",
       "      <td>05-01-2015</td>\n",
       "      <td>10000000.0</td>\n",
       "      <td>/organization/-fame</td>\n",
       "      <td>#fame</td>\n",
       "      <td>http://livfame.com</td>\n",
       "      <td>Media</td>\n",
       "      <td>operating</td>\n",
       "      <td>IND</td>\n",
       "      <td>16</td>\n",
       "      <td>Mumbai</td>\n",
       "      <td>Mumbai</td>\n",
       "      <td>Media</td>\n",
       "    </tr>\n",
       "    <tr>\n",
       "      <th>4</th>\n",
       "      <td>/organization/0-6-com</td>\n",
       "      <td>/funding-round/5727accaeaa57461bd22a9bdd945382d</td>\n",
       "      <td>venture</td>\n",
       "      <td>19-03-2008</td>\n",
       "      <td>2000000.0</td>\n",
       "      <td>/organization/0-6-com</td>\n",
       "      <td>0-6.com</td>\n",
       "      <td>http://www.0-6.com</td>\n",
       "      <td>Curated Web</td>\n",
       "      <td>operating</td>\n",
       "      <td>CHN</td>\n",
       "      <td>22</td>\n",
       "      <td>Beijing</td>\n",
       "      <td>Beijing</td>\n",
       "      <td>Curated Web</td>\n",
       "    </tr>\n",
       "    <tr>\n",
       "      <th>8</th>\n",
       "      <td>/organization/0ndine-biomedical-inc</td>\n",
       "      <td>/funding-round/954b9499724b946ad8c396a57a5f3b72</td>\n",
       "      <td>venture</td>\n",
       "      <td>21-12-2009</td>\n",
       "      <td>719491.0</td>\n",
       "      <td>/organization/0ndine-biomedical-inc</td>\n",
       "      <td>Ondine Biomedical Inc.</td>\n",
       "      <td>http://ondinebio.com</td>\n",
       "      <td>Biotechnology</td>\n",
       "      <td>operating</td>\n",
       "      <td>CAN</td>\n",
       "      <td>BC</td>\n",
       "      <td>Vancouver</td>\n",
       "      <td>Vancouver</td>\n",
       "      <td>Biotechnology</td>\n",
       "    </tr>\n",
       "    <tr>\n",
       "      <th>10</th>\n",
       "      <td>/organization/0xdata</td>\n",
       "      <td>/funding-round/3bb2ee4a2d89251a10aaa735b1180e44</td>\n",
       "      <td>venture</td>\n",
       "      <td>09-11-2015</td>\n",
       "      <td>20000000.0</td>\n",
       "      <td>/organization/0xdata</td>\n",
       "      <td>H2O.ai</td>\n",
       "      <td>http://h2o.ai/</td>\n",
       "      <td>Analytics</td>\n",
       "      <td>operating</td>\n",
       "      <td>USA</td>\n",
       "      <td>CA</td>\n",
       "      <td>SF Bay Area</td>\n",
       "      <td>Mountain View</td>\n",
       "      <td>Analytics</td>\n",
       "    </tr>\n",
       "    <tr>\n",
       "      <th>11</th>\n",
       "      <td>/organization/0xdata</td>\n",
       "      <td>/funding-round/ae2a174c06517c2394aed45006322a7e</td>\n",
       "      <td>venture</td>\n",
       "      <td>03-01-2013</td>\n",
       "      <td>1700000.0</td>\n",
       "      <td>/organization/0xdata</td>\n",
       "      <td>H2O.ai</td>\n",
       "      <td>http://h2o.ai/</td>\n",
       "      <td>Analytics</td>\n",
       "      <td>operating</td>\n",
       "      <td>USA</td>\n",
       "      <td>CA</td>\n",
       "      <td>SF Bay Area</td>\n",
       "      <td>Mountain View</td>\n",
       "      <td>Analytics</td>\n",
       "    </tr>\n",
       "  </tbody>\n",
       "</table>\n",
       "</div>"
      ],
      "text/plain": [
       "                      company_permalink  \\\n",
       "0                   /organization/-fame   \n",
       "4                 /organization/0-6-com   \n",
       "8   /organization/0ndine-biomedical-inc   \n",
       "10                 /organization/0xdata   \n",
       "11                 /organization/0xdata   \n",
       "\n",
       "                            funding_round_permalink funding_round_type  \\\n",
       "0   /funding-round/9a01d05418af9f794eebff7ace91f638            venture   \n",
       "4   /funding-round/5727accaeaa57461bd22a9bdd945382d            venture   \n",
       "8   /funding-round/954b9499724b946ad8c396a57a5f3b72            venture   \n",
       "10  /funding-round/3bb2ee4a2d89251a10aaa735b1180e44            venture   \n",
       "11  /funding-round/ae2a174c06517c2394aed45006322a7e            venture   \n",
       "\n",
       "     funded_at  raised_amount_usd                            permalink  \\\n",
       "0   05-01-2015         10000000.0                  /organization/-fame   \n",
       "4   19-03-2008          2000000.0                /organization/0-6-com   \n",
       "8   21-12-2009           719491.0  /organization/0ndine-biomedical-inc   \n",
       "10  09-11-2015         20000000.0                 /organization/0xdata   \n",
       "11  03-01-2013          1700000.0                 /organization/0xdata   \n",
       "\n",
       "                      name          homepage_url  category_list     status  \\\n",
       "0                    #fame    http://livfame.com          Media  operating   \n",
       "4                  0-6.com    http://www.0-6.com    Curated Web  operating   \n",
       "8   Ondine Biomedical Inc.  http://ondinebio.com  Biotechnology  operating   \n",
       "10                  H2O.ai        http://h2o.ai/      Analytics  operating   \n",
       "11                  H2O.ai        http://h2o.ai/      Analytics  operating   \n",
       "\n",
       "   country_code state_code       region           city primary_sector  \n",
       "0           IND         16       Mumbai         Mumbai          Media  \n",
       "4           CHN         22      Beijing        Beijing    Curated Web  \n",
       "8           CAN         BC    Vancouver      Vancouver  Biotechnology  \n",
       "10          USA         CA  SF Bay Area  Mountain View      Analytics  \n",
       "11          USA         CA  SF Bay Area  Mountain View      Analytics  "
      ]
     },
     "execution_count": 36,
     "metadata": {},
     "output_type": "execute_result"
    }
   ],
   "source": [
    "top9.head()"
   ]
  },
  {
   "cell_type": "markdown",
   "metadata": {},
   "source": [
    "Now we have extracted primary sector for each company and kept it in a separate column called primary_sector"
   ]
  },
  {
   "cell_type": "code",
   "execution_count": 37,
   "metadata": {},
   "outputs": [
    {
     "data": {
      "text/html": [
       "<div>\n",
       "<style scoped>\n",
       "    .dataframe tbody tr th:only-of-type {\n",
       "        vertical-align: middle;\n",
       "    }\n",
       "\n",
       "    .dataframe tbody tr th {\n",
       "        vertical-align: top;\n",
       "    }\n",
       "\n",
       "    .dataframe thead th {\n",
       "        text-align: right;\n",
       "    }\n",
       "</style>\n",
       "<table border=\"1\" class=\"dataframe\">\n",
       "  <thead>\n",
       "    <tr style=\"text-align: right;\">\n",
       "      <th></th>\n",
       "      <th>category_list</th>\n",
       "      <th>Automotive &amp; Sports</th>\n",
       "      <th>Blanks</th>\n",
       "      <th>Cleantech / Semiconductors</th>\n",
       "      <th>Entertainment</th>\n",
       "      <th>Health</th>\n",
       "      <th>Manufacturing</th>\n",
       "      <th>News, Search and Messaging</th>\n",
       "      <th>Others</th>\n",
       "      <th>Social, Finance, Analytics, Advertising</th>\n",
       "    </tr>\n",
       "  </thead>\n",
       "  <tbody>\n",
       "    <tr>\n",
       "      <th>0</th>\n",
       "      <td>NaN</td>\n",
       "      <td>0</td>\n",
       "      <td>1</td>\n",
       "      <td>0</td>\n",
       "      <td>0</td>\n",
       "      <td>0</td>\n",
       "      <td>0</td>\n",
       "      <td>0</td>\n",
       "      <td>0</td>\n",
       "      <td>0</td>\n",
       "    </tr>\n",
       "    <tr>\n",
       "      <th>1</th>\n",
       "      <td>3D</td>\n",
       "      <td>0</td>\n",
       "      <td>0</td>\n",
       "      <td>0</td>\n",
       "      <td>0</td>\n",
       "      <td>0</td>\n",
       "      <td>1</td>\n",
       "      <td>0</td>\n",
       "      <td>0</td>\n",
       "      <td>0</td>\n",
       "    </tr>\n",
       "    <tr>\n",
       "      <th>2</th>\n",
       "      <td>3D Printing</td>\n",
       "      <td>0</td>\n",
       "      <td>0</td>\n",
       "      <td>0</td>\n",
       "      <td>0</td>\n",
       "      <td>0</td>\n",
       "      <td>1</td>\n",
       "      <td>0</td>\n",
       "      <td>0</td>\n",
       "      <td>0</td>\n",
       "    </tr>\n",
       "    <tr>\n",
       "      <th>3</th>\n",
       "      <td>3D Technology</td>\n",
       "      <td>0</td>\n",
       "      <td>0</td>\n",
       "      <td>0</td>\n",
       "      <td>0</td>\n",
       "      <td>0</td>\n",
       "      <td>1</td>\n",
       "      <td>0</td>\n",
       "      <td>0</td>\n",
       "      <td>0</td>\n",
       "    </tr>\n",
       "    <tr>\n",
       "      <th>4</th>\n",
       "      <td>Accounting</td>\n",
       "      <td>0</td>\n",
       "      <td>0</td>\n",
       "      <td>0</td>\n",
       "      <td>0</td>\n",
       "      <td>0</td>\n",
       "      <td>0</td>\n",
       "      <td>0</td>\n",
       "      <td>0</td>\n",
       "      <td>1</td>\n",
       "    </tr>\n",
       "  </tbody>\n",
       "</table>\n",
       "</div>"
      ],
      "text/plain": [
       "   category_list  Automotive & Sports  Blanks  Cleantech / Semiconductors  \\\n",
       "0            NaN                    0       1                           0   \n",
       "1             3D                    0       0                           0   \n",
       "2    3D Printing                    0       0                           0   \n",
       "3  3D Technology                    0       0                           0   \n",
       "4     Accounting                    0       0                           0   \n",
       "\n",
       "   Entertainment  Health  Manufacturing  News, Search and Messaging  Others  \\\n",
       "0              0       0              0                           0       0   \n",
       "1              0       0              1                           0       0   \n",
       "2              0       0              1                           0       0   \n",
       "3              0       0              1                           0       0   \n",
       "4              0       0              0                           0       0   \n",
       "\n",
       "   Social, Finance, Analytics, Advertising  \n",
       "0                                        0  \n",
       "1                                        0  \n",
       "2                                        0  \n",
       "3                                        0  \n",
       "4                                        1  "
      ]
     },
     "execution_count": 37,
     "metadata": {},
     "output_type": "execute_result"
    }
   ],
   "source": [
    "mapping.head()"
   ]
  },
  {
   "cell_type": "code",
   "execution_count": 38,
   "metadata": {},
   "outputs": [
    {
     "data": {
      "text/plain": [
       "(688, 10)"
      ]
     },
     "execution_count": 38,
     "metadata": {},
     "output_type": "execute_result"
    }
   ],
   "source": [
    "mapping.shape"
   ]
  },
  {
   "cell_type": "code",
   "execution_count": 39,
   "metadata": {},
   "outputs": [],
   "source": [
    "# Removing null value rows for category_list column\n",
    "mapping = mapping[(pd.notnull(mapping['category_list']))]"
   ]
  },
  {
   "cell_type": "code",
   "execution_count": 40,
   "metadata": {},
   "outputs": [],
   "source": [
    "mapping['category_list'] = mapping['category_list'].str.lower() # converting all category list to lowercase"
   ]
  },
  {
   "cell_type": "code",
   "execution_count": 41,
   "metadata": {},
   "outputs": [
    {
     "data": {
      "text/plain": [
       "array(['3d', '3d printing', '3d technology', 'accounting',\n",
       "       'active lifestyle', 'ad targeting', 'advanced materials',\n",
       "       'adventure travel', 'advertising', 'advertising exchanges',\n",
       "       'advertising networks', 'advertising platforms', 'advice',\n",
       "       'aerospace', 'agriculture', 'air pollution control', 'algorithms',\n",
       "       'all markets', 'all students', 'alter0tive medicine', 'alumni',\n",
       "       'a0lytics', 'android', 'angels', 'animal feed',\n",
       "       'anything capital intensive', 'app discovery', 'app marketing',\n",
       "       'app stores', 'application performance monitoring',\n",
       "       'application platforms', 'apps', 'aquaculture', 'architecture',\n",
       "       'archiving', 'art', 'artificial intelligence', 'artists globally',\n",
       "       'assisitive technology', 'assisted living', 'auctions', 'audio',\n",
       "       'audiobooks', 'augmented reality', 'auto', 'automated kiosk',\n",
       "       'automotive', 'b2b', 'b2b express delivery', 'babies',\n",
       "       'baby accessories', 'baby boomers', 'baby safety', 'banking',\n",
       "       'batteries', 'beauty', 'bicycles', 'big data', 'big data a0lytics',\n",
       "       'billing', 'bio-pharm', 'biofuels', 'bioinformatics',\n",
       "       'biomass power generation', 'biometrics', 'biotechnology',\n",
       "       'bitcoin', 'blogging platforms', 'boating industry',\n",
       "       'bpo services', 'brand marketing', 'brewing',\n",
       "       'bridging online and offline', 'broadcasting', 'brokers',\n",
       "       'browser extensions', 'building owners', 'building products',\n",
       "       'business a0lytics', 'business development',\n",
       "       'business information systems', 'business intelligence',\n",
       "       'business productivity', 'business services', 'business travelers',\n",
       "       'cable', 'cad', 'call center automation', 'can0bis', 'carbon',\n",
       "       'career ma0gement', 'career planning', 'cars', 'casual games',\n",
       "       'celebrity', 'certification test', 'charities', 'charity',\n",
       "       'charter schools', 'chat', 'chemicals', 'child care',\n",
       "       'chi0 internet', 'civil engineers', 'classifieds', 'clean energy',\n",
       "       'clean technology', 'clean technology it', 'clinical trials',\n",
       "       'cloud-based music', 'cloud computing', 'cloud data services',\n",
       "       'cloud infrastructure', 'cloud ma0gement', 'cloud security',\n",
       "       'coffee', 'collaboration', 'collaborative consumption',\n",
       "       'collectibles', 'college campuses', 'college recruiting',\n",
       "       'colleges', 'comics', 'commercial real estate', 'commercial solar',\n",
       "       'commodities', 'communications hardware',\n",
       "       'communications infrastructure', 'communities',\n",
       "       'comparison shopping', 'computer vision', 'computers',\n",
       "       'concentrated solar power', 'concerts', 'console gaming',\n",
       "       'construction', 'consulting', 'consumer behavior',\n",
       "       'consumer electronics', 'consumer goods', 'consumer internet',\n",
       "       'consumer lending', 'consumers', 'contact centers',\n",
       "       'contact ma0gement', 'content', 'content creators',\n",
       "       'content delivery', 'content discovery', 'content syndication',\n",
       "       'contests', 'cooking', 'corporate it', 'corporate training',\n",
       "       'corporate wellness', 'cosmetic surgery', 'cosmetics', 'coupons',\n",
       "       'coworking', 'craft beer', 'creative', 'creative industries',\n",
       "       'credit', 'credit cards', 'crm', 'crowdfunding', 'crowdsourcing',\n",
       "       'curated web', 'custom retail', 'customer service',\n",
       "       'customer support tools', 'cyber', 'cyber security',\n",
       "       'data center automation', 'data center infrastructure',\n",
       "       'data centers', 'data integration', 'data mining', 'data privacy',\n",
       "       'data security', 'data visualization', 'databases',\n",
       "       'debt collecting', 'defense', 'delivery', 'demographies', 'dental',\n",
       "       'design', 'designers', 'developer apis', 'developer tools',\n",
       "       'development platforms', 'diabetes', 'diagnostics',\n",
       "       'dietary supplements', 'digital entertainment', 'digital media',\n",
       "       'digital rights ma0gement', 'digital sig0ge', 'direct advertising',\n",
       "       'direct marketing', 'direct sales', 'discounts', 'displays',\n",
       "       'disruptive models', 'distribution', 'distributors', 'diy',\n",
       "       'doctors', 'document ma0gement', 'dod/military', 'domains',\n",
       "       'drones', 'e-books', 'e-commerce', 'e-commerce platforms',\n",
       "       'early-stage technology', 'ebooks', 'eda tools', 'ediscovery',\n",
       "       'edtech', 'education', 'educatio0l games', 'edutainment',\n",
       "       'elder care', 'electric vehicles', 'electrical distribution',\n",
       "       'electronic health records', 'electronics', 'email',\n",
       "       'email marketing', 'email newsletters',\n",
       "       'embedded hardware and software', 'emerging markets',\n",
       "       'employer benefits programs', 'employment', 'energy',\n",
       "       'energy efficiency', 'energy it', 'energy ma0gement',\n",
       "       'energy storage', 'engineering firms', 'enterprise 2.0',\n",
       "       'enterprise application', 'enterprise purchasing',\n",
       "       'enterprise resource planning', 'enterprise search',\n",
       "       'enterprise security', 'enterprise software', 'enterprises',\n",
       "       'entertainment', 'entertainment industry', 'entrepreneur',\n",
       "       'environmental innovation', 'estimation and quoting',\n",
       "       'event ma0gement', 'events', 'exercise', 'eyewear',\n",
       "       'face recognition', 'facebook applications', 'families',\n",
       "       'fantasy sports', 'farmers market', 'farming', 'fashion',\n",
       "       'fertility', 'field support services', 'file sharing', 'film',\n",
       "       'film distribution', 'film production', 'fi0nce',\n",
       "       'fi0nce technology', 'fi0ncial exchanges', 'fi0ncial services',\n",
       "       'fintech', 'fitness', 'flash sales', 'flash storage',\n",
       "       'fleet ma0gement', 'flowers', 'fmcg', 'food processing', 'forums',\n",
       "       'fraud detection', 'freelancers', 'freemium', 'freetoplay gaming',\n",
       "       'fruit', 'fuel cells', 'fuels', 'funeral industry', 'furniture',\n",
       "       'gadget', 'gambling', 'game', 'game mechanics', 'games',\n",
       "       'gamification', 'gas', 'gay & lesbian', 'general public worldwide',\n",
       "       'genetic testing', 'geospatial', 'gift card', 'gift exchange',\n",
       "       'gift registries', 'gold', 'gover0nce', 'government innovation',\n",
       "       'governments', 'gps', 'graphics', 'green', 'green consumer goods',\n",
       "       'groceries', 'group buying', 'group sms', 'guides', 'handmade',\n",
       "       'hardware', 'hardware + software', 'health and insurance',\n",
       "       'health and wellness', 'health care',\n",
       "       'health care information technology', 'health diagnostics',\n",
       "       'health services industry', 'healthcare services',\n",
       "       'heavy industry', 'hedge funds', 'high school students',\n",
       "       'high schools', 'high tech', 'home & garden', 'home automation',\n",
       "       'home decor', 'home owners', 'home renovation',\n",
       "       'homeland security', 'homeless shelter', 'hospitality',\n",
       "       'hospitals', 'hotels', 'human computer interaction',\n",
       "       'human resource automation', 'human resources', 'humanitarian',\n",
       "       'iaas', 'ict', 'identity', 'identity ma0gement',\n",
       "       'image recognition', 'impact investing', 'in-flight entertainment',\n",
       "       'incentives', 'incubators', 'independent music labels',\n",
       "       'independent pharmacies', 'indians', 'indoor positioning',\n",
       "       'industrial', 'industrial automation', 'information security',\n",
       "       'information services', 'information technology', 'infrastructure',\n",
       "       'innovation engineering', 'innovation ma0gement', 'insurance',\n",
       "       'intellectual asset ma0gement', 'intellectual property',\n",
       "       'intelligent systems', 'interest graph', 'interface design',\n",
       "       'interior design', 'internet', 'internet infrastructure',\n",
       "       'internet marketing', 'internet of things',\n",
       "       'internet radio market', 'internet service providers',\n",
       "       'investment ma0gement', 'ios', 'ipad', 'iphone',\n",
       "       'it and cybersecurity', 'it ma0gement', 'jewelry', 'jour0lism',\n",
       "       'k-12 education', 'kids', 'knowledge ma0gement', 'landscaping',\n",
       "       'language learning', 'lasers', 'law enforcement',\n",
       "       'lead generation', 'lead ma0gement', 'legal', 'leisure',\n",
       "       'licensing', 'life sciences', 'lifestyle', 'lifestyle businesses',\n",
       "       'lifestyle products', 'lighting', 'limousines', 'linux', 'local',\n",
       "       'local advertising', 'local based services', 'local businesses',\n",
       "       'local commerce', 'local search', 'location based services',\n",
       "       'logistics', 'logistics company', 'lotteries', 'low bid auctions',\n",
       "       'loyalty programs', 'm2m', 'machine learning', 'manufacturing',\n",
       "       'maps', 'market research', 'marketing automation', 'marketplaces',\n",
       "       'mass customization', 'match-making', 'material science',\n",
       "       'mechanical solutions', 'media', 'medical', 'medical devices',\n",
       "       'medical professio0ls', 'meeting software', 'mens specific',\n",
       "       'messaging', 'mhealth', 'micro-enterprises', 'microblogging',\n",
       "       'minerals', 'mining technologies', 'mobile', 'mobile advertising',\n",
       "       'mobile a0lytics', 'mobile commerce', 'mobile devices',\n",
       "       'mobile enterprise', 'mobile games', 'mobile health',\n",
       "       'mobile infrastructure', 'mobile payments', 'mobile security',\n",
       "       'mobile shopping', 'mobile social', 'mobile software tools',\n",
       "       'mobile video', 'mobility', 'monetization', 'moneymaking',\n",
       "       'multi-level marketing', 'music', 'music education',\n",
       "       'music services', 'music venues', 'musical instruments',\n",
       "       'musicians', '0notechnology', '0tural language processing',\n",
       "       '0tural resources', '0vigation', 'network security', 'networking',\n",
       "       'neuroscience', 'new product development', 'new technologies',\n",
       "       'news', 'non-tech', 'non profit', 'nonprofits', 'nutrition',\n",
       "       'office space', 'oil', 'oil & gas', 'oil and gas', 'online dating',\n",
       "       'online education', 'online gaming', 'online identity',\n",
       "       'online rental', 'online reservations', 'online scheduling',\n",
       "       'online shopping', 'online travel', 'online video advertising',\n",
       "       'open source', 'opinions', 'optical communications',\n",
       "       'optimization', 'organic', 'organic food', 'outdoors',\n",
       "       'outsourcing', 'p2p money transfer', 'paas', 'parenting',\n",
       "       'parking', 'payments', 'peer-to-peer', 'performance marketing',\n",
       "       'perso0l branding', 'perso0l data', 'perso0l fi0nce',\n",
       "       'perso0l health', 'perso0lization', 'pervasive computing', 'pets',\n",
       "       'pharmaceuticals', 'photo editing', 'photo sharing', 'photography',\n",
       "       'physical security', 'physicians', 'plumbers', 'point of sale',\n",
       "       'politics', 'polling', 'portals', 'postal and courier services',\n",
       "       'pre seed', 'predictive a0lytics', 'presentations',\n",
       "       'price comparison', 'printing', 'privacy', 'private school',\n",
       "       'private social networking', 'procurement', 'product design',\n",
       "       'product development services', 'productivity',\n",
       "       'productivity software', 'professio0l networking',\n",
       "       'professio0l services', 'project ma0gement', 'promotio0l',\n",
       "       'property ma0gement', 'public relations', 'public safety',\n",
       "       'public transportation', 'publishing', 'q&a', 'qr codes',\n",
       "       'real estate', 'real time', 'realtors', 'recreation', 'recruiting',\n",
       "       'recycling', 'religion', 'renewable energies', 'renewable tech',\n",
       "       'rental housing', 'reputation', 'resorts', 'restaurants', 'retail',\n",
       "       'retail technology', 'reviews and recommendations', 'rfid',\n",
       "       'ride sharing', 'risk ma0gement', 'robotics', 'saas',\n",
       "       'sales and marketing', 'sales automation', 'search',\n",
       "       'search marketing', 'security',\n",
       "       'semiconductor manufacturing equipment', 'semiconductors',\n",
       "       'senior citizens', 'senior health', 'sensors', 'seo',\n",
       "       'service industries', 'service providers', 'services', 'sextech',\n",
       "       'shared services', 'shipping', 'shoes', 'shopping', 'simulation',\n",
       "       'skill assessment', 'small and medium businesses', 'smart grid',\n",
       "       'sns', 'soccer', 'social + mobile + local', 'social bookmarking',\n",
       "       'social business', 'social buying', 'social commerce',\n",
       "       'social crm', 'social fundraising', 'social games', 'social media',\n",
       "       'social media ma0gement', 'social media marketing',\n",
       "       'social media platforms', 'social network media', 'social news',\n",
       "       'social recruiting', 'social television', 'social travel',\n",
       "       'software', 'solar', 'space travel', 'specialty chemicals',\n",
       "       'specialty foods', 'speech recognition', 'sporting goods',\n",
       "       'sports', 'staffing firms', 'startups', 'stock exchanges',\n",
       "       'storage', 'subscription service', 'supply chain ma0gement',\n",
       "       'surveys', 'synchronization', 'systems', 'task ma0gement', 'taxis',\n",
       "       'tea', 'technology', 'telecommunications', 'television',\n",
       "       'textiles', 'theatre', 'therapeutics', 'ticketing', 'tourism',\n",
       "       'tracking', 'trading', 'training', 'translation', 'transportation',\n",
       "       'travel', 'travel & tourism', 'universities',\n",
       "       'university students', 'unmanned air systems', 'usability',\n",
       "       'user experience design', 'user interface', 'utilities',\n",
       "       'vending and concessions', 'venture capital', 'veteri0ry', 'video',\n",
       "       'video conferencing', 'video games', 'video on demand',\n",
       "       'video streaming', 'virtual workforces', 'voip', 'waste ma0gement',\n",
       "       'watch', 'water', 'water purification', 'wearables',\n",
       "       'web browsers', 'web design', 'web development', 'web hosting',\n",
       "       'web tools', 'weddings', 'wholesale', 'wine and spirits',\n",
       "       'wireless', 'women', 'young adults'], dtype=object)"
      ]
     },
     "execution_count": 41,
     "metadata": {},
     "output_type": "execute_result"
    }
   ],
   "source": [
    "mapping['category_list'].unique()"
   ]
  },
  {
   "cell_type": "markdown",
   "metadata": {},
   "source": [
    "As you can see above, the letters \"na\" are replaced with 0. So we need to do correction"
   ]
  },
  {
   "cell_type": "code",
   "execution_count": 42,
   "metadata": {},
   "outputs": [],
   "source": [
    "def correct_spelling(str):\n",
    "    if str.endswith(\"0\"):\n",
    "       return str\n",
    "    elif \"0\" in str:\n",
    "       return str.replace(\"0\", \"na\")\n",
    "    else:\n",
    "       return str"
   ]
  },
  {
   "cell_type": "code",
   "execution_count": 43,
   "metadata": {},
   "outputs": [],
   "source": [
    "mapping['category_list'] = mapping['category_list'].apply(lambda x:correct_spelling(x)) # correcting spelling mistakes"
   ]
  },
  {
   "cell_type": "code",
   "execution_count": 44,
   "metadata": {},
   "outputs": [
    {
     "data": {
      "text/plain": [
       "array(['3d', '3d printing', '3d technology', 'accounting',\n",
       "       'active lifestyle', 'ad targeting', 'advanced materials',\n",
       "       'adventure travel', 'advertising', 'advertising exchanges',\n",
       "       'advertising networks', 'advertising platforms', 'advice',\n",
       "       'aerospace', 'agriculture', 'air pollution control', 'algorithms',\n",
       "       'all markets', 'all students', 'alternative medicine', 'alumni',\n",
       "       'analytics', 'android', 'angels', 'animal feed',\n",
       "       'anything capital intensive', 'app discovery', 'app marketing',\n",
       "       'app stores', 'application performance monitoring',\n",
       "       'application platforms', 'apps', 'aquaculture', 'architecture',\n",
       "       'archiving', 'art', 'artificial intelligence', 'artists globally',\n",
       "       'assisitive technology', 'assisted living', 'auctions', 'audio',\n",
       "       'audiobooks', 'augmented reality', 'auto', 'automated kiosk',\n",
       "       'automotive', 'b2b', 'b2b express delivery', 'babies',\n",
       "       'baby accessories', 'baby boomers', 'baby safety', 'banking',\n",
       "       'batteries', 'beauty', 'bicycles', 'big data',\n",
       "       'big data analytics', 'billing', 'bio-pharm', 'biofuels',\n",
       "       'bioinformatics', 'biomass power generation', 'biometrics',\n",
       "       'biotechnology', 'bitcoin', 'blogging platforms',\n",
       "       'boating industry', 'bpo services', 'brand marketing', 'brewing',\n",
       "       'bridging online and offline', 'broadcasting', 'brokers',\n",
       "       'browser extensions', 'building owners', 'building products',\n",
       "       'business analytics', 'business development',\n",
       "       'business information systems', 'business intelligence',\n",
       "       'business productivity', 'business services', 'business travelers',\n",
       "       'cable', 'cad', 'call center automation', 'cannabis', 'carbon',\n",
       "       'career management', 'career planning', 'cars', 'casual games',\n",
       "       'celebrity', 'certification test', 'charities', 'charity',\n",
       "       'charter schools', 'chat', 'chemicals', 'child care',\n",
       "       'china internet', 'civil engineers', 'classifieds', 'clean energy',\n",
       "       'clean technology', 'clean technology it', 'clinical trials',\n",
       "       'cloud-based music', 'cloud computing', 'cloud data services',\n",
       "       'cloud infrastructure', 'cloud management', 'cloud security',\n",
       "       'coffee', 'collaboration', 'collaborative consumption',\n",
       "       'collectibles', 'college campuses', 'college recruiting',\n",
       "       'colleges', 'comics', 'commercial real estate', 'commercial solar',\n",
       "       'commodities', 'communications hardware',\n",
       "       'communications infrastructure', 'communities',\n",
       "       'comparison shopping', 'computer vision', 'computers',\n",
       "       'concentrated solar power', 'concerts', 'console gaming',\n",
       "       'construction', 'consulting', 'consumer behavior',\n",
       "       'consumer electronics', 'consumer goods', 'consumer internet',\n",
       "       'consumer lending', 'consumers', 'contact centers',\n",
       "       'contact management', 'content', 'content creators',\n",
       "       'content delivery', 'content discovery', 'content syndication',\n",
       "       'contests', 'cooking', 'corporate it', 'corporate training',\n",
       "       'corporate wellness', 'cosmetic surgery', 'cosmetics', 'coupons',\n",
       "       'coworking', 'craft beer', 'creative', 'creative industries',\n",
       "       'credit', 'credit cards', 'crm', 'crowdfunding', 'crowdsourcing',\n",
       "       'curated web', 'custom retail', 'customer service',\n",
       "       'customer support tools', 'cyber', 'cyber security',\n",
       "       'data center automation', 'data center infrastructure',\n",
       "       'data centers', 'data integration', 'data mining', 'data privacy',\n",
       "       'data security', 'data visualization', 'databases',\n",
       "       'debt collecting', 'defense', 'delivery', 'demographies', 'dental',\n",
       "       'design', 'designers', 'developer apis', 'developer tools',\n",
       "       'development platforms', 'diabetes', 'diagnostics',\n",
       "       'dietary supplements', 'digital entertainment', 'digital media',\n",
       "       'digital rights management', 'digital signage',\n",
       "       'direct advertising', 'direct marketing', 'direct sales',\n",
       "       'discounts', 'displays', 'disruptive models', 'distribution',\n",
       "       'distributors', 'diy', 'doctors', 'document management',\n",
       "       'dod/military', 'domains', 'drones', 'e-books', 'e-commerce',\n",
       "       'e-commerce platforms', 'early-stage technology', 'ebooks',\n",
       "       'eda tools', 'ediscovery', 'edtech', 'education',\n",
       "       'educational games', 'edutainment', 'elder care',\n",
       "       'electric vehicles', 'electrical distribution',\n",
       "       'electronic health records', 'electronics', 'email',\n",
       "       'email marketing', 'email newsletters',\n",
       "       'embedded hardware and software', 'emerging markets',\n",
       "       'employer benefits programs', 'employment', 'energy',\n",
       "       'energy efficiency', 'energy it', 'energy management',\n",
       "       'energy storage', 'engineering firms', 'enterprise 2.0',\n",
       "       'enterprise application', 'enterprise purchasing',\n",
       "       'enterprise resource planning', 'enterprise search',\n",
       "       'enterprise security', 'enterprise software', 'enterprises',\n",
       "       'entertainment', 'entertainment industry', 'entrepreneur',\n",
       "       'environmental innovation', 'estimation and quoting',\n",
       "       'event management', 'events', 'exercise', 'eyewear',\n",
       "       'face recognition', 'facebook applications', 'families',\n",
       "       'fantasy sports', 'farmers market', 'farming', 'fashion',\n",
       "       'fertility', 'field support services', 'file sharing', 'film',\n",
       "       'film distribution', 'film production', 'finance',\n",
       "       'finance technology', 'financial exchanges', 'financial services',\n",
       "       'fintech', 'fitness', 'flash sales', 'flash storage',\n",
       "       'fleet management', 'flowers', 'fmcg', 'food processing', 'forums',\n",
       "       'fraud detection', 'freelancers', 'freemium', 'freetoplay gaming',\n",
       "       'fruit', 'fuel cells', 'fuels', 'funeral industry', 'furniture',\n",
       "       'gadget', 'gambling', 'game', 'game mechanics', 'games',\n",
       "       'gamification', 'gas', 'gay & lesbian', 'general public worldwide',\n",
       "       'genetic testing', 'geospatial', 'gift card', 'gift exchange',\n",
       "       'gift registries', 'gold', 'governance', 'government innovation',\n",
       "       'governments', 'gps', 'graphics', 'green', 'green consumer goods',\n",
       "       'groceries', 'group buying', 'group sms', 'guides', 'handmade',\n",
       "       'hardware', 'hardware + software', 'health and insurance',\n",
       "       'health and wellness', 'health care',\n",
       "       'health care information technology', 'health diagnostics',\n",
       "       'health services industry', 'healthcare services',\n",
       "       'heavy industry', 'hedge funds', 'high school students',\n",
       "       'high schools', 'high tech', 'home & garden', 'home automation',\n",
       "       'home decor', 'home owners', 'home renovation',\n",
       "       'homeland security', 'homeless shelter', 'hospitality',\n",
       "       'hospitals', 'hotels', 'human computer interaction',\n",
       "       'human resource automation', 'human resources', 'humanitarian',\n",
       "       'iaas', 'ict', 'identity', 'identity management',\n",
       "       'image recognition', 'impact investing', 'in-flight entertainment',\n",
       "       'incentives', 'incubators', 'independent music labels',\n",
       "       'independent pharmacies', 'indians', 'indoor positioning',\n",
       "       'industrial', 'industrial automation', 'information security',\n",
       "       'information services', 'information technology', 'infrastructure',\n",
       "       'innovation engineering', 'innovation management', 'insurance',\n",
       "       'intellectual asset management', 'intellectual property',\n",
       "       'intelligent systems', 'interest graph', 'interface design',\n",
       "       'interior design', 'internet', 'internet infrastructure',\n",
       "       'internet marketing', 'internet of things',\n",
       "       'internet radio market', 'internet service providers',\n",
       "       'investment management', 'ios', 'ipad', 'iphone',\n",
       "       'it and cybersecurity', 'it management', 'jewelry', 'journalism',\n",
       "       'k-12 education', 'kids', 'knowledge management', 'landscaping',\n",
       "       'language learning', 'lasers', 'law enforcement',\n",
       "       'lead generation', 'lead management', 'legal', 'leisure',\n",
       "       'licensing', 'life sciences', 'lifestyle', 'lifestyle businesses',\n",
       "       'lifestyle products', 'lighting', 'limousines', 'linux', 'local',\n",
       "       'local advertising', 'local based services', 'local businesses',\n",
       "       'local commerce', 'local search', 'location based services',\n",
       "       'logistics', 'logistics company', 'lotteries', 'low bid auctions',\n",
       "       'loyalty programs', 'm2m', 'machine learning', 'manufacturing',\n",
       "       'maps', 'market research', 'marketing automation', 'marketplaces',\n",
       "       'mass customization', 'match-making', 'material science',\n",
       "       'mechanical solutions', 'media', 'medical', 'medical devices',\n",
       "       'medical professionals', 'meeting software', 'mens specific',\n",
       "       'messaging', 'mhealth', 'micro-enterprises', 'microblogging',\n",
       "       'minerals', 'mining technologies', 'mobile', 'mobile advertising',\n",
       "       'mobile analytics', 'mobile commerce', 'mobile devices',\n",
       "       'mobile enterprise', 'mobile games', 'mobile health',\n",
       "       'mobile infrastructure', 'mobile payments', 'mobile security',\n",
       "       'mobile shopping', 'mobile social', 'mobile software tools',\n",
       "       'mobile video', 'mobility', 'monetization', 'moneymaking',\n",
       "       'multi-level marketing', 'music', 'music education',\n",
       "       'music services', 'music venues', 'musical instruments',\n",
       "       'musicians', 'nanotechnology', 'natural language processing',\n",
       "       'natural resources', 'navigation', 'network security',\n",
       "       'networking', 'neuroscience', 'new product development',\n",
       "       'new technologies', 'news', 'non-tech', 'non profit', 'nonprofits',\n",
       "       'nutrition', 'office space', 'oil', 'oil & gas', 'oil and gas',\n",
       "       'online dating', 'online education', 'online gaming',\n",
       "       'online identity', 'online rental', 'online reservations',\n",
       "       'online scheduling', 'online shopping', 'online travel',\n",
       "       'online video advertising', 'open source', 'opinions',\n",
       "       'optical communications', 'optimization', 'organic',\n",
       "       'organic food', 'outdoors', 'outsourcing', 'p2p money transfer',\n",
       "       'paas', 'parenting', 'parking', 'payments', 'peer-to-peer',\n",
       "       'performance marketing', 'personal branding', 'personal data',\n",
       "       'personal finance', 'personal health', 'personalization',\n",
       "       'pervasive computing', 'pets', 'pharmaceuticals', 'photo editing',\n",
       "       'photo sharing', 'photography', 'physical security', 'physicians',\n",
       "       'plumbers', 'point of sale', 'politics', 'polling', 'portals',\n",
       "       'postal and courier services', 'pre seed', 'predictive analytics',\n",
       "       'presentations', 'price comparison', 'printing', 'privacy',\n",
       "       'private school', 'private social networking', 'procurement',\n",
       "       'product design', 'product development services', 'productivity',\n",
       "       'productivity software', 'professional networking',\n",
       "       'professional services', 'project management', 'promotional',\n",
       "       'property management', 'public relations', 'public safety',\n",
       "       'public transportation', 'publishing', 'q&a', 'qr codes',\n",
       "       'real estate', 'real time', 'realtors', 'recreation', 'recruiting',\n",
       "       'recycling', 'religion', 'renewable energies', 'renewable tech',\n",
       "       'rental housing', 'reputation', 'resorts', 'restaurants', 'retail',\n",
       "       'retail technology', 'reviews and recommendations', 'rfid',\n",
       "       'ride sharing', 'risk management', 'robotics', 'saas',\n",
       "       'sales and marketing', 'sales automation', 'search',\n",
       "       'search marketing', 'security',\n",
       "       'semiconductor manufacturing equipment', 'semiconductors',\n",
       "       'senior citizens', 'senior health', 'sensors', 'seo',\n",
       "       'service industries', 'service providers', 'services', 'sextech',\n",
       "       'shared services', 'shipping', 'shoes', 'shopping', 'simulation',\n",
       "       'skill assessment', 'small and medium businesses', 'smart grid',\n",
       "       'sns', 'soccer', 'social + mobile + local', 'social bookmarking',\n",
       "       'social business', 'social buying', 'social commerce',\n",
       "       'social crm', 'social fundraising', 'social games', 'social media',\n",
       "       'social media management', 'social media marketing',\n",
       "       'social media platforms', 'social network media', 'social news',\n",
       "       'social recruiting', 'social television', 'social travel',\n",
       "       'software', 'solar', 'space travel', 'specialty chemicals',\n",
       "       'specialty foods', 'speech recognition', 'sporting goods',\n",
       "       'sports', 'staffing firms', 'startups', 'stock exchanges',\n",
       "       'storage', 'subscription service', 'supply chain management',\n",
       "       'surveys', 'synchronization', 'systems', 'task management',\n",
       "       'taxis', 'tea', 'technology', 'telecommunications', 'television',\n",
       "       'textiles', 'theatre', 'therapeutics', 'ticketing', 'tourism',\n",
       "       'tracking', 'trading', 'training', 'translation', 'transportation',\n",
       "       'travel', 'travel & tourism', 'universities',\n",
       "       'university students', 'unmanned air systems', 'usability',\n",
       "       'user experience design', 'user interface', 'utilities',\n",
       "       'vending and concessions', 'venture capital', 'veterinary',\n",
       "       'video', 'video conferencing', 'video games', 'video on demand',\n",
       "       'video streaming', 'virtual workforces', 'voip',\n",
       "       'waste management', 'watch', 'water', 'water purification',\n",
       "       'wearables', 'web browsers', 'web design', 'web development',\n",
       "       'web hosting', 'web tools', 'weddings', 'wholesale',\n",
       "       'wine and spirits', 'wireless', 'women', 'young adults'],\n",
       "      dtype=object)"
      ]
     },
     "execution_count": 44,
     "metadata": {},
     "output_type": "execute_result"
    }
   ],
   "source": [
    "mapping['category_list'].unique()"
   ]
  },
  {
   "cell_type": "code",
   "execution_count": 45,
   "metadata": {},
   "outputs": [
    {
     "data": {
      "text/html": [
       "<div>\n",
       "<style scoped>\n",
       "    .dataframe tbody tr th:only-of-type {\n",
       "        vertical-align: middle;\n",
       "    }\n",
       "\n",
       "    .dataframe tbody tr th {\n",
       "        vertical-align: top;\n",
       "    }\n",
       "\n",
       "    .dataframe thead th {\n",
       "        text-align: right;\n",
       "    }\n",
       "</style>\n",
       "<table border=\"1\" class=\"dataframe\">\n",
       "  <thead>\n",
       "    <tr style=\"text-align: right;\">\n",
       "      <th></th>\n",
       "      <th>category_list</th>\n",
       "      <th>Automotive &amp; Sports</th>\n",
       "      <th>Blanks</th>\n",
       "      <th>Cleantech / Semiconductors</th>\n",
       "      <th>Entertainment</th>\n",
       "      <th>Health</th>\n",
       "      <th>Manufacturing</th>\n",
       "      <th>News, Search and Messaging</th>\n",
       "      <th>Others</th>\n",
       "      <th>Social, Finance, Analytics, Advertising</th>\n",
       "    </tr>\n",
       "  </thead>\n",
       "  <tbody>\n",
       "    <tr>\n",
       "      <th>1</th>\n",
       "      <td>3d</td>\n",
       "      <td>0</td>\n",
       "      <td>0</td>\n",
       "      <td>0</td>\n",
       "      <td>0</td>\n",
       "      <td>0</td>\n",
       "      <td>1</td>\n",
       "      <td>0</td>\n",
       "      <td>0</td>\n",
       "      <td>0</td>\n",
       "    </tr>\n",
       "    <tr>\n",
       "      <th>2</th>\n",
       "      <td>3d printing</td>\n",
       "      <td>0</td>\n",
       "      <td>0</td>\n",
       "      <td>0</td>\n",
       "      <td>0</td>\n",
       "      <td>0</td>\n",
       "      <td>1</td>\n",
       "      <td>0</td>\n",
       "      <td>0</td>\n",
       "      <td>0</td>\n",
       "    </tr>\n",
       "    <tr>\n",
       "      <th>3</th>\n",
       "      <td>3d technology</td>\n",
       "      <td>0</td>\n",
       "      <td>0</td>\n",
       "      <td>0</td>\n",
       "      <td>0</td>\n",
       "      <td>0</td>\n",
       "      <td>1</td>\n",
       "      <td>0</td>\n",
       "      <td>0</td>\n",
       "      <td>0</td>\n",
       "    </tr>\n",
       "    <tr>\n",
       "      <th>4</th>\n",
       "      <td>accounting</td>\n",
       "      <td>0</td>\n",
       "      <td>0</td>\n",
       "      <td>0</td>\n",
       "      <td>0</td>\n",
       "      <td>0</td>\n",
       "      <td>0</td>\n",
       "      <td>0</td>\n",
       "      <td>0</td>\n",
       "      <td>1</td>\n",
       "    </tr>\n",
       "    <tr>\n",
       "      <th>5</th>\n",
       "      <td>active lifestyle</td>\n",
       "      <td>0</td>\n",
       "      <td>0</td>\n",
       "      <td>0</td>\n",
       "      <td>0</td>\n",
       "      <td>1</td>\n",
       "      <td>0</td>\n",
       "      <td>0</td>\n",
       "      <td>0</td>\n",
       "      <td>0</td>\n",
       "    </tr>\n",
       "    <tr>\n",
       "      <th>...</th>\n",
       "      <td>...</td>\n",
       "      <td>...</td>\n",
       "      <td>...</td>\n",
       "      <td>...</td>\n",
       "      <td>...</td>\n",
       "      <td>...</td>\n",
       "      <td>...</td>\n",
       "      <td>...</td>\n",
       "      <td>...</td>\n",
       "      <td>...</td>\n",
       "    </tr>\n",
       "    <tr>\n",
       "      <th>683</th>\n",
       "      <td>wholesale</td>\n",
       "      <td>0</td>\n",
       "      <td>0</td>\n",
       "      <td>0</td>\n",
       "      <td>0</td>\n",
       "      <td>0</td>\n",
       "      <td>0</td>\n",
       "      <td>0</td>\n",
       "      <td>1</td>\n",
       "      <td>0</td>\n",
       "    </tr>\n",
       "    <tr>\n",
       "      <th>684</th>\n",
       "      <td>wine and spirits</td>\n",
       "      <td>0</td>\n",
       "      <td>0</td>\n",
       "      <td>0</td>\n",
       "      <td>1</td>\n",
       "      <td>0</td>\n",
       "      <td>0</td>\n",
       "      <td>0</td>\n",
       "      <td>0</td>\n",
       "      <td>0</td>\n",
       "    </tr>\n",
       "    <tr>\n",
       "      <th>685</th>\n",
       "      <td>wireless</td>\n",
       "      <td>0</td>\n",
       "      <td>0</td>\n",
       "      <td>0</td>\n",
       "      <td>1</td>\n",
       "      <td>0</td>\n",
       "      <td>0</td>\n",
       "      <td>0</td>\n",
       "      <td>0</td>\n",
       "      <td>0</td>\n",
       "    </tr>\n",
       "    <tr>\n",
       "      <th>686</th>\n",
       "      <td>women</td>\n",
       "      <td>0</td>\n",
       "      <td>0</td>\n",
       "      <td>0</td>\n",
       "      <td>0</td>\n",
       "      <td>0</td>\n",
       "      <td>0</td>\n",
       "      <td>0</td>\n",
       "      <td>1</td>\n",
       "      <td>0</td>\n",
       "    </tr>\n",
       "    <tr>\n",
       "      <th>687</th>\n",
       "      <td>young adults</td>\n",
       "      <td>0</td>\n",
       "      <td>0</td>\n",
       "      <td>0</td>\n",
       "      <td>0</td>\n",
       "      <td>0</td>\n",
       "      <td>0</td>\n",
       "      <td>0</td>\n",
       "      <td>1</td>\n",
       "      <td>0</td>\n",
       "    </tr>\n",
       "  </tbody>\n",
       "</table>\n",
       "<p>687 rows × 10 columns</p>\n",
       "</div>"
      ],
      "text/plain": [
       "        category_list  Automotive & Sports  Blanks  \\\n",
       "1                  3d                    0       0   \n",
       "2         3d printing                    0       0   \n",
       "3       3d technology                    0       0   \n",
       "4          accounting                    0       0   \n",
       "5    active lifestyle                    0       0   \n",
       "..                ...                  ...     ...   \n",
       "683         wholesale                    0       0   \n",
       "684  wine and spirits                    0       0   \n",
       "685          wireless                    0       0   \n",
       "686             women                    0       0   \n",
       "687      young adults                    0       0   \n",
       "\n",
       "     Cleantech / Semiconductors  Entertainment  Health  Manufacturing  \\\n",
       "1                             0              0       0              1   \n",
       "2                             0              0       0              1   \n",
       "3                             0              0       0              1   \n",
       "4                             0              0       0              0   \n",
       "5                             0              0       1              0   \n",
       "..                          ...            ...     ...            ...   \n",
       "683                           0              0       0              0   \n",
       "684                           0              1       0              0   \n",
       "685                           0              1       0              0   \n",
       "686                           0              0       0              0   \n",
       "687                           0              0       0              0   \n",
       "\n",
       "     News, Search and Messaging  Others  \\\n",
       "1                             0       0   \n",
       "2                             0       0   \n",
       "3                             0       0   \n",
       "4                             0       0   \n",
       "5                             0       0   \n",
       "..                          ...     ...   \n",
       "683                           0       1   \n",
       "684                           0       0   \n",
       "685                           0       0   \n",
       "686                           0       1   \n",
       "687                           0       1   \n",
       "\n",
       "     Social, Finance, Analytics, Advertising  \n",
       "1                                          0  \n",
       "2                                          0  \n",
       "3                                          0  \n",
       "4                                          1  \n",
       "5                                          0  \n",
       "..                                       ...  \n",
       "683                                        0  \n",
       "684                                        0  \n",
       "685                                        0  \n",
       "686                                        0  \n",
       "687                                        0  \n",
       "\n",
       "[687 rows x 10 columns]"
      ]
     },
     "execution_count": 45,
     "metadata": {},
     "output_type": "execute_result"
    }
   ],
   "source": [
    "# Mapping primary sector with main sector\n",
    "mapping"
   ]
  },
  {
   "cell_type": "code",
   "execution_count": 46,
   "metadata": {},
   "outputs": [],
   "source": [
    "'''\n",
    "In order to map:\n",
    "1) We will reshape the mapping dataframe using melt so that it contains only category and main sector as it's columns. \n",
    "2) Then merge top9 and the mapping dataframe on primary_sector(in top9) and category_list(in mapping) \n",
    "'''\n",
    "\n",
    "mapping=pd.melt(mapping, id_vars=['category_list'], var_name=['main_sector'])"
   ]
  },
  {
   "cell_type": "code",
   "execution_count": 47,
   "metadata": {},
   "outputs": [
    {
     "data": {
      "text/html": [
       "<div>\n",
       "<style scoped>\n",
       "    .dataframe tbody tr th:only-of-type {\n",
       "        vertical-align: middle;\n",
       "    }\n",
       "\n",
       "    .dataframe tbody tr th {\n",
       "        vertical-align: top;\n",
       "    }\n",
       "\n",
       "    .dataframe thead th {\n",
       "        text-align: right;\n",
       "    }\n",
       "</style>\n",
       "<table border=\"1\" class=\"dataframe\">\n",
       "  <thead>\n",
       "    <tr style=\"text-align: right;\">\n",
       "      <th></th>\n",
       "      <th>category_list</th>\n",
       "      <th>main_sector</th>\n",
       "      <th>value</th>\n",
       "    </tr>\n",
       "  </thead>\n",
       "  <tbody>\n",
       "    <tr>\n",
       "      <th>0</th>\n",
       "      <td>3d</td>\n",
       "      <td>Automotive &amp; Sports</td>\n",
       "      <td>0</td>\n",
       "    </tr>\n",
       "    <tr>\n",
       "      <th>1</th>\n",
       "      <td>3d printing</td>\n",
       "      <td>Automotive &amp; Sports</td>\n",
       "      <td>0</td>\n",
       "    </tr>\n",
       "    <tr>\n",
       "      <th>2</th>\n",
       "      <td>3d technology</td>\n",
       "      <td>Automotive &amp; Sports</td>\n",
       "      <td>0</td>\n",
       "    </tr>\n",
       "    <tr>\n",
       "      <th>3</th>\n",
       "      <td>accounting</td>\n",
       "      <td>Automotive &amp; Sports</td>\n",
       "      <td>0</td>\n",
       "    </tr>\n",
       "    <tr>\n",
       "      <th>4</th>\n",
       "      <td>active lifestyle</td>\n",
       "      <td>Automotive &amp; Sports</td>\n",
       "      <td>0</td>\n",
       "    </tr>\n",
       "    <tr>\n",
       "      <th>...</th>\n",
       "      <td>...</td>\n",
       "      <td>...</td>\n",
       "      <td>...</td>\n",
       "    </tr>\n",
       "    <tr>\n",
       "      <th>6178</th>\n",
       "      <td>wholesale</td>\n",
       "      <td>Social, Finance, Analytics, Advertising</td>\n",
       "      <td>0</td>\n",
       "    </tr>\n",
       "    <tr>\n",
       "      <th>6179</th>\n",
       "      <td>wine and spirits</td>\n",
       "      <td>Social, Finance, Analytics, Advertising</td>\n",
       "      <td>0</td>\n",
       "    </tr>\n",
       "    <tr>\n",
       "      <th>6180</th>\n",
       "      <td>wireless</td>\n",
       "      <td>Social, Finance, Analytics, Advertising</td>\n",
       "      <td>0</td>\n",
       "    </tr>\n",
       "    <tr>\n",
       "      <th>6181</th>\n",
       "      <td>women</td>\n",
       "      <td>Social, Finance, Analytics, Advertising</td>\n",
       "      <td>0</td>\n",
       "    </tr>\n",
       "    <tr>\n",
       "      <th>6182</th>\n",
       "      <td>young adults</td>\n",
       "      <td>Social, Finance, Analytics, Advertising</td>\n",
       "      <td>0</td>\n",
       "    </tr>\n",
       "  </tbody>\n",
       "</table>\n",
       "<p>6183 rows × 3 columns</p>\n",
       "</div>"
      ],
      "text/plain": [
       "         category_list                              main_sector  value\n",
       "0                   3d                      Automotive & Sports      0\n",
       "1          3d printing                      Automotive & Sports      0\n",
       "2        3d technology                      Automotive & Sports      0\n",
       "3           accounting                      Automotive & Sports      0\n",
       "4     active lifestyle                      Automotive & Sports      0\n",
       "...                ...                                      ...    ...\n",
       "6178         wholesale  Social, Finance, Analytics, Advertising      0\n",
       "6179  wine and spirits  Social, Finance, Analytics, Advertising      0\n",
       "6180          wireless  Social, Finance, Analytics, Advertising      0\n",
       "6181             women  Social, Finance, Analytics, Advertising      0\n",
       "6182      young adults  Social, Finance, Analytics, Advertising      0\n",
       "\n",
       "[6183 rows x 3 columns]"
      ]
     },
     "execution_count": 47,
     "metadata": {},
     "output_type": "execute_result"
    }
   ],
   "source": [
    "mapping"
   ]
  },
  {
   "cell_type": "code",
   "execution_count": 48,
   "metadata": {},
   "outputs": [],
   "source": [
    "mapping=mapping[mapping.value==1] # we want only rows with value 1"
   ]
  },
  {
   "cell_type": "code",
   "execution_count": 49,
   "metadata": {},
   "outputs": [
    {
     "data": {
      "text/html": [
       "<div>\n",
       "<style scoped>\n",
       "    .dataframe tbody tr th:only-of-type {\n",
       "        vertical-align: middle;\n",
       "    }\n",
       "\n",
       "    .dataframe tbody tr th {\n",
       "        vertical-align: top;\n",
       "    }\n",
       "\n",
       "    .dataframe thead th {\n",
       "        text-align: right;\n",
       "    }\n",
       "</style>\n",
       "<table border=\"1\" class=\"dataframe\">\n",
       "  <thead>\n",
       "    <tr style=\"text-align: right;\">\n",
       "      <th></th>\n",
       "      <th>category_list</th>\n",
       "      <th>main_sector</th>\n",
       "      <th>value</th>\n",
       "    </tr>\n",
       "  </thead>\n",
       "  <tbody>\n",
       "    <tr>\n",
       "      <th>7</th>\n",
       "      <td>adventure travel</td>\n",
       "      <td>Automotive &amp; Sports</td>\n",
       "      <td>1</td>\n",
       "    </tr>\n",
       "    <tr>\n",
       "      <th>13</th>\n",
       "      <td>aerospace</td>\n",
       "      <td>Automotive &amp; Sports</td>\n",
       "      <td>1</td>\n",
       "    </tr>\n",
       "    <tr>\n",
       "      <th>44</th>\n",
       "      <td>auto</td>\n",
       "      <td>Automotive &amp; Sports</td>\n",
       "      <td>1</td>\n",
       "    </tr>\n",
       "    <tr>\n",
       "      <th>45</th>\n",
       "      <td>automated kiosk</td>\n",
       "      <td>Automotive &amp; Sports</td>\n",
       "      <td>1</td>\n",
       "    </tr>\n",
       "    <tr>\n",
       "      <th>46</th>\n",
       "      <td>automotive</td>\n",
       "      <td>Automotive &amp; Sports</td>\n",
       "      <td>1</td>\n",
       "    </tr>\n",
       "    <tr>\n",
       "      <th>...</th>\n",
       "      <td>...</td>\n",
       "      <td>...</td>\n",
       "      <td>...</td>\n",
       "    </tr>\n",
       "    <tr>\n",
       "      <th>6112</th>\n",
       "      <td>social recruiting</td>\n",
       "      <td>Social, Finance, Analytics, Advertising</td>\n",
       "      <td>1</td>\n",
       "    </tr>\n",
       "    <tr>\n",
       "      <th>6113</th>\n",
       "      <td>social television</td>\n",
       "      <td>Social, Finance, Analytics, Advertising</td>\n",
       "      <td>1</td>\n",
       "    </tr>\n",
       "    <tr>\n",
       "      <th>6114</th>\n",
       "      <td>social travel</td>\n",
       "      <td>Social, Finance, Analytics, Advertising</td>\n",
       "      <td>1</td>\n",
       "    </tr>\n",
       "    <tr>\n",
       "      <th>6125</th>\n",
       "      <td>stock exchanges</td>\n",
       "      <td>Social, Finance, Analytics, Advertising</td>\n",
       "      <td>1</td>\n",
       "    </tr>\n",
       "    <tr>\n",
       "      <th>6158</th>\n",
       "      <td>venture capital</td>\n",
       "      <td>Social, Finance, Analytics, Advertising</td>\n",
       "      <td>1</td>\n",
       "    </tr>\n",
       "  </tbody>\n",
       "</table>\n",
       "<p>687 rows × 3 columns</p>\n",
       "</div>"
      ],
      "text/plain": [
       "          category_list                              main_sector  value\n",
       "7      adventure travel                      Automotive & Sports      1\n",
       "13            aerospace                      Automotive & Sports      1\n",
       "44                 auto                      Automotive & Sports      1\n",
       "45      automated kiosk                      Automotive & Sports      1\n",
       "46           automotive                      Automotive & Sports      1\n",
       "...                 ...                                      ...    ...\n",
       "6112  social recruiting  Social, Finance, Analytics, Advertising      1\n",
       "6113  social television  Social, Finance, Analytics, Advertising      1\n",
       "6114      social travel  Social, Finance, Analytics, Advertising      1\n",
       "6125    stock exchanges  Social, Finance, Analytics, Advertising      1\n",
       "6158    venture capital  Social, Finance, Analytics, Advertising      1\n",
       "\n",
       "[687 rows x 3 columns]"
      ]
     },
     "execution_count": 49,
     "metadata": {},
     "output_type": "execute_result"
    }
   ],
   "source": [
    "mapping"
   ]
  },
  {
   "cell_type": "code",
   "execution_count": 50,
   "metadata": {},
   "outputs": [],
   "source": [
    "mapping=mapping.drop('value',axis=1) # remove the value column as it is not required during merging"
   ]
  },
  {
   "cell_type": "code",
   "execution_count": 51,
   "metadata": {},
   "outputs": [
    {
     "data": {
      "text/html": [
       "<div>\n",
       "<style scoped>\n",
       "    .dataframe tbody tr th:only-of-type {\n",
       "        vertical-align: middle;\n",
       "    }\n",
       "\n",
       "    .dataframe tbody tr th {\n",
       "        vertical-align: top;\n",
       "    }\n",
       "\n",
       "    .dataframe thead th {\n",
       "        text-align: right;\n",
       "    }\n",
       "</style>\n",
       "<table border=\"1\" class=\"dataframe\">\n",
       "  <thead>\n",
       "    <tr style=\"text-align: right;\">\n",
       "      <th></th>\n",
       "      <th>category_list</th>\n",
       "      <th>main_sector</th>\n",
       "    </tr>\n",
       "  </thead>\n",
       "  <tbody>\n",
       "    <tr>\n",
       "      <th>7</th>\n",
       "      <td>adventure travel</td>\n",
       "      <td>Automotive &amp; Sports</td>\n",
       "    </tr>\n",
       "    <tr>\n",
       "      <th>13</th>\n",
       "      <td>aerospace</td>\n",
       "      <td>Automotive &amp; Sports</td>\n",
       "    </tr>\n",
       "    <tr>\n",
       "      <th>44</th>\n",
       "      <td>auto</td>\n",
       "      <td>Automotive &amp; Sports</td>\n",
       "    </tr>\n",
       "    <tr>\n",
       "      <th>45</th>\n",
       "      <td>automated kiosk</td>\n",
       "      <td>Automotive &amp; Sports</td>\n",
       "    </tr>\n",
       "    <tr>\n",
       "      <th>46</th>\n",
       "      <td>automotive</td>\n",
       "      <td>Automotive &amp; Sports</td>\n",
       "    </tr>\n",
       "    <tr>\n",
       "      <th>...</th>\n",
       "      <td>...</td>\n",
       "      <td>...</td>\n",
       "    </tr>\n",
       "    <tr>\n",
       "      <th>6112</th>\n",
       "      <td>social recruiting</td>\n",
       "      <td>Social, Finance, Analytics, Advertising</td>\n",
       "    </tr>\n",
       "    <tr>\n",
       "      <th>6113</th>\n",
       "      <td>social television</td>\n",
       "      <td>Social, Finance, Analytics, Advertising</td>\n",
       "    </tr>\n",
       "    <tr>\n",
       "      <th>6114</th>\n",
       "      <td>social travel</td>\n",
       "      <td>Social, Finance, Analytics, Advertising</td>\n",
       "    </tr>\n",
       "    <tr>\n",
       "      <th>6125</th>\n",
       "      <td>stock exchanges</td>\n",
       "      <td>Social, Finance, Analytics, Advertising</td>\n",
       "    </tr>\n",
       "    <tr>\n",
       "      <th>6158</th>\n",
       "      <td>venture capital</td>\n",
       "      <td>Social, Finance, Analytics, Advertising</td>\n",
       "    </tr>\n",
       "  </tbody>\n",
       "</table>\n",
       "<p>687 rows × 2 columns</p>\n",
       "</div>"
      ],
      "text/plain": [
       "          category_list                              main_sector\n",
       "7      adventure travel                      Automotive & Sports\n",
       "13            aerospace                      Automotive & Sports\n",
       "44                 auto                      Automotive & Sports\n",
       "45      automated kiosk                      Automotive & Sports\n",
       "46           automotive                      Automotive & Sports\n",
       "...                 ...                                      ...\n",
       "6112  social recruiting  Social, Finance, Analytics, Advertising\n",
       "6113  social television  Social, Finance, Analytics, Advertising\n",
       "6114      social travel  Social, Finance, Analytics, Advertising\n",
       "6125    stock exchanges  Social, Finance, Analytics, Advertising\n",
       "6158    venture capital  Social, Finance, Analytics, Advertising\n",
       "\n",
       "[687 rows x 2 columns]"
      ]
     },
     "execution_count": 51,
     "metadata": {},
     "output_type": "execute_result"
    }
   ],
   "source": [
    "mapping # df of category list and main_sector"
   ]
  },
  {
   "cell_type": "code",
   "execution_count": null,
   "metadata": {},
   "outputs": [],
   "source": [
    "# convert primary sector to lower case as we converted category_list to lowercase in mapping\n",
    "top9[\"primary_sector\"] = top9[\"primary_sector\"].str.lower()"
   ]
  },
  {
   "cell_type": "code",
   "execution_count": 53,
   "metadata": {},
   "outputs": [],
   "source": [
    "# merge top9 with mapping\n",
    "top9=pd.merge(top9,mapping,how=\"left\",left_on=\"primary_sector\",right_on=\"category_list\")"
   ]
  },
  {
   "cell_type": "code",
   "execution_count": 54,
   "metadata": {},
   "outputs": [
    {
     "data": {
      "text/html": [
       "<div>\n",
       "<style scoped>\n",
       "    .dataframe tbody tr th:only-of-type {\n",
       "        vertical-align: middle;\n",
       "    }\n",
       "\n",
       "    .dataframe tbody tr th {\n",
       "        vertical-align: top;\n",
       "    }\n",
       "\n",
       "    .dataframe thead th {\n",
       "        text-align: right;\n",
       "    }\n",
       "</style>\n",
       "<table border=\"1\" class=\"dataframe\">\n",
       "  <thead>\n",
       "    <tr style=\"text-align: right;\">\n",
       "      <th></th>\n",
       "      <th>company_permalink</th>\n",
       "      <th>funding_round_permalink</th>\n",
       "      <th>funding_round_type</th>\n",
       "      <th>funded_at</th>\n",
       "      <th>raised_amount_usd</th>\n",
       "      <th>permalink</th>\n",
       "      <th>name</th>\n",
       "      <th>homepage_url</th>\n",
       "      <th>category_list_x</th>\n",
       "      <th>status</th>\n",
       "      <th>country_code</th>\n",
       "      <th>state_code</th>\n",
       "      <th>region</th>\n",
       "      <th>city</th>\n",
       "      <th>primary_sector</th>\n",
       "      <th>category_list_y</th>\n",
       "      <th>main_sector</th>\n",
       "    </tr>\n",
       "  </thead>\n",
       "  <tbody>\n",
       "    <tr>\n",
       "      <th>0</th>\n",
       "      <td>/organization/-fame</td>\n",
       "      <td>/funding-round/9a01d05418af9f794eebff7ace91f638</td>\n",
       "      <td>venture</td>\n",
       "      <td>05-01-2015</td>\n",
       "      <td>10000000.0</td>\n",
       "      <td>/organization/-fame</td>\n",
       "      <td>#fame</td>\n",
       "      <td>http://livfame.com</td>\n",
       "      <td>Media</td>\n",
       "      <td>operating</td>\n",
       "      <td>IND</td>\n",
       "      <td>16</td>\n",
       "      <td>Mumbai</td>\n",
       "      <td>Mumbai</td>\n",
       "      <td>media</td>\n",
       "      <td>media</td>\n",
       "      <td>Entertainment</td>\n",
       "    </tr>\n",
       "    <tr>\n",
       "      <th>1</th>\n",
       "      <td>/organization/0-6-com</td>\n",
       "      <td>/funding-round/5727accaeaa57461bd22a9bdd945382d</td>\n",
       "      <td>venture</td>\n",
       "      <td>19-03-2008</td>\n",
       "      <td>2000000.0</td>\n",
       "      <td>/organization/0-6-com</td>\n",
       "      <td>0-6.com</td>\n",
       "      <td>http://www.0-6.com</td>\n",
       "      <td>Curated Web</td>\n",
       "      <td>operating</td>\n",
       "      <td>CHN</td>\n",
       "      <td>22</td>\n",
       "      <td>Beijing</td>\n",
       "      <td>Beijing</td>\n",
       "      <td>curated web</td>\n",
       "      <td>curated web</td>\n",
       "      <td>News, Search and Messaging</td>\n",
       "    </tr>\n",
       "    <tr>\n",
       "      <th>2</th>\n",
       "      <td>/organization/0ndine-biomedical-inc</td>\n",
       "      <td>/funding-round/954b9499724b946ad8c396a57a5f3b72</td>\n",
       "      <td>venture</td>\n",
       "      <td>21-12-2009</td>\n",
       "      <td>719491.0</td>\n",
       "      <td>/organization/0ndine-biomedical-inc</td>\n",
       "      <td>Ondine Biomedical Inc.</td>\n",
       "      <td>http://ondinebio.com</td>\n",
       "      <td>Biotechnology</td>\n",
       "      <td>operating</td>\n",
       "      <td>CAN</td>\n",
       "      <td>BC</td>\n",
       "      <td>Vancouver</td>\n",
       "      <td>Vancouver</td>\n",
       "      <td>biotechnology</td>\n",
       "      <td>biotechnology</td>\n",
       "      <td>Cleantech / Semiconductors</td>\n",
       "    </tr>\n",
       "    <tr>\n",
       "      <th>3</th>\n",
       "      <td>/organization/0xdata</td>\n",
       "      <td>/funding-round/3bb2ee4a2d89251a10aaa735b1180e44</td>\n",
       "      <td>venture</td>\n",
       "      <td>09-11-2015</td>\n",
       "      <td>20000000.0</td>\n",
       "      <td>/organization/0xdata</td>\n",
       "      <td>H2O.ai</td>\n",
       "      <td>http://h2o.ai/</td>\n",
       "      <td>Analytics</td>\n",
       "      <td>operating</td>\n",
       "      <td>USA</td>\n",
       "      <td>CA</td>\n",
       "      <td>SF Bay Area</td>\n",
       "      <td>Mountain View</td>\n",
       "      <td>analytics</td>\n",
       "      <td>analytics</td>\n",
       "      <td>Social, Finance, Analytics, Advertising</td>\n",
       "    </tr>\n",
       "    <tr>\n",
       "      <th>4</th>\n",
       "      <td>/organization/0xdata</td>\n",
       "      <td>/funding-round/ae2a174c06517c2394aed45006322a7e</td>\n",
       "      <td>venture</td>\n",
       "      <td>03-01-2013</td>\n",
       "      <td>1700000.0</td>\n",
       "      <td>/organization/0xdata</td>\n",
       "      <td>H2O.ai</td>\n",
       "      <td>http://h2o.ai/</td>\n",
       "      <td>Analytics</td>\n",
       "      <td>operating</td>\n",
       "      <td>USA</td>\n",
       "      <td>CA</td>\n",
       "      <td>SF Bay Area</td>\n",
       "      <td>Mountain View</td>\n",
       "      <td>analytics</td>\n",
       "      <td>analytics</td>\n",
       "      <td>Social, Finance, Analytics, Advertising</td>\n",
       "    </tr>\n",
       "  </tbody>\n",
       "</table>\n",
       "</div>"
      ],
      "text/plain": [
       "                     company_permalink  \\\n",
       "0                  /organization/-fame   \n",
       "1                /organization/0-6-com   \n",
       "2  /organization/0ndine-biomedical-inc   \n",
       "3                 /organization/0xdata   \n",
       "4                 /organization/0xdata   \n",
       "\n",
       "                           funding_round_permalink funding_round_type  \\\n",
       "0  /funding-round/9a01d05418af9f794eebff7ace91f638            venture   \n",
       "1  /funding-round/5727accaeaa57461bd22a9bdd945382d            venture   \n",
       "2  /funding-round/954b9499724b946ad8c396a57a5f3b72            venture   \n",
       "3  /funding-round/3bb2ee4a2d89251a10aaa735b1180e44            venture   \n",
       "4  /funding-round/ae2a174c06517c2394aed45006322a7e            venture   \n",
       "\n",
       "    funded_at  raised_amount_usd                            permalink  \\\n",
       "0  05-01-2015         10000000.0                  /organization/-fame   \n",
       "1  19-03-2008          2000000.0                /organization/0-6-com   \n",
       "2  21-12-2009           719491.0  /organization/0ndine-biomedical-inc   \n",
       "3  09-11-2015         20000000.0                 /organization/0xdata   \n",
       "4  03-01-2013          1700000.0                 /organization/0xdata   \n",
       "\n",
       "                     name          homepage_url category_list_x     status  \\\n",
       "0                   #fame    http://livfame.com           Media  operating   \n",
       "1                 0-6.com    http://www.0-6.com     Curated Web  operating   \n",
       "2  Ondine Biomedical Inc.  http://ondinebio.com   Biotechnology  operating   \n",
       "3                  H2O.ai        http://h2o.ai/       Analytics  operating   \n",
       "4                  H2O.ai        http://h2o.ai/       Analytics  operating   \n",
       "\n",
       "  country_code state_code       region           city primary_sector  \\\n",
       "0          IND         16       Mumbai         Mumbai          media   \n",
       "1          CHN         22      Beijing        Beijing    curated web   \n",
       "2          CAN         BC    Vancouver      Vancouver  biotechnology   \n",
       "3          USA         CA  SF Bay Area  Mountain View      analytics   \n",
       "4          USA         CA  SF Bay Area  Mountain View      analytics   \n",
       "\n",
       "  category_list_y                              main_sector  \n",
       "0           media                            Entertainment  \n",
       "1     curated web               News, Search and Messaging  \n",
       "2   biotechnology               Cleantech / Semiconductors  \n",
       "3       analytics  Social, Finance, Analytics, Advertising  \n",
       "4       analytics  Social, Finance, Analytics, Advertising  "
      ]
     },
     "execution_count": 54,
     "metadata": {},
     "output_type": "execute_result"
    }
   ],
   "source": [
    "top9.head()"
   ]
  },
  {
   "cell_type": "markdown",
   "metadata": {},
   "source": [
    "Now we have done with mapping. But we have an extra column 'category_list_y' which is redundant. So removing that column"
   ]
  },
  {
   "cell_type": "code",
   "execution_count": 55,
   "metadata": {},
   "outputs": [],
   "source": [
    "top9=top9.drop('category_list_y',axis=1)"
   ]
  },
  {
   "cell_type": "code",
   "execution_count": 56,
   "metadata": {},
   "outputs": [
    {
     "data": {
      "text/html": [
       "<div>\n",
       "<style scoped>\n",
       "    .dataframe tbody tr th:only-of-type {\n",
       "        vertical-align: middle;\n",
       "    }\n",
       "\n",
       "    .dataframe tbody tr th {\n",
       "        vertical-align: top;\n",
       "    }\n",
       "\n",
       "    .dataframe thead th {\n",
       "        text-align: right;\n",
       "    }\n",
       "</style>\n",
       "<table border=\"1\" class=\"dataframe\">\n",
       "  <thead>\n",
       "    <tr style=\"text-align: right;\">\n",
       "      <th></th>\n",
       "      <th>company_permalink</th>\n",
       "      <th>funding_round_permalink</th>\n",
       "      <th>funding_round_type</th>\n",
       "      <th>funded_at</th>\n",
       "      <th>raised_amount_usd</th>\n",
       "      <th>permalink</th>\n",
       "      <th>name</th>\n",
       "      <th>homepage_url</th>\n",
       "      <th>category_list_x</th>\n",
       "      <th>status</th>\n",
       "      <th>country_code</th>\n",
       "      <th>state_code</th>\n",
       "      <th>region</th>\n",
       "      <th>city</th>\n",
       "      <th>primary_sector</th>\n",
       "      <th>main_sector</th>\n",
       "    </tr>\n",
       "  </thead>\n",
       "  <tbody>\n",
       "    <tr>\n",
       "      <th>0</th>\n",
       "      <td>/organization/-fame</td>\n",
       "      <td>/funding-round/9a01d05418af9f794eebff7ace91f638</td>\n",
       "      <td>venture</td>\n",
       "      <td>05-01-2015</td>\n",
       "      <td>10000000.0</td>\n",
       "      <td>/organization/-fame</td>\n",
       "      <td>#fame</td>\n",
       "      <td>http://livfame.com</td>\n",
       "      <td>Media</td>\n",
       "      <td>operating</td>\n",
       "      <td>IND</td>\n",
       "      <td>16</td>\n",
       "      <td>Mumbai</td>\n",
       "      <td>Mumbai</td>\n",
       "      <td>media</td>\n",
       "      <td>Entertainment</td>\n",
       "    </tr>\n",
       "    <tr>\n",
       "      <th>1</th>\n",
       "      <td>/organization/0-6-com</td>\n",
       "      <td>/funding-round/5727accaeaa57461bd22a9bdd945382d</td>\n",
       "      <td>venture</td>\n",
       "      <td>19-03-2008</td>\n",
       "      <td>2000000.0</td>\n",
       "      <td>/organization/0-6-com</td>\n",
       "      <td>0-6.com</td>\n",
       "      <td>http://www.0-6.com</td>\n",
       "      <td>Curated Web</td>\n",
       "      <td>operating</td>\n",
       "      <td>CHN</td>\n",
       "      <td>22</td>\n",
       "      <td>Beijing</td>\n",
       "      <td>Beijing</td>\n",
       "      <td>curated web</td>\n",
       "      <td>News, Search and Messaging</td>\n",
       "    </tr>\n",
       "    <tr>\n",
       "      <th>2</th>\n",
       "      <td>/organization/0ndine-biomedical-inc</td>\n",
       "      <td>/funding-round/954b9499724b946ad8c396a57a5f3b72</td>\n",
       "      <td>venture</td>\n",
       "      <td>21-12-2009</td>\n",
       "      <td>719491.0</td>\n",
       "      <td>/organization/0ndine-biomedical-inc</td>\n",
       "      <td>Ondine Biomedical Inc.</td>\n",
       "      <td>http://ondinebio.com</td>\n",
       "      <td>Biotechnology</td>\n",
       "      <td>operating</td>\n",
       "      <td>CAN</td>\n",
       "      <td>BC</td>\n",
       "      <td>Vancouver</td>\n",
       "      <td>Vancouver</td>\n",
       "      <td>biotechnology</td>\n",
       "      <td>Cleantech / Semiconductors</td>\n",
       "    </tr>\n",
       "    <tr>\n",
       "      <th>3</th>\n",
       "      <td>/organization/0xdata</td>\n",
       "      <td>/funding-round/3bb2ee4a2d89251a10aaa735b1180e44</td>\n",
       "      <td>venture</td>\n",
       "      <td>09-11-2015</td>\n",
       "      <td>20000000.0</td>\n",
       "      <td>/organization/0xdata</td>\n",
       "      <td>H2O.ai</td>\n",
       "      <td>http://h2o.ai/</td>\n",
       "      <td>Analytics</td>\n",
       "      <td>operating</td>\n",
       "      <td>USA</td>\n",
       "      <td>CA</td>\n",
       "      <td>SF Bay Area</td>\n",
       "      <td>Mountain View</td>\n",
       "      <td>analytics</td>\n",
       "      <td>Social, Finance, Analytics, Advertising</td>\n",
       "    </tr>\n",
       "    <tr>\n",
       "      <th>4</th>\n",
       "      <td>/organization/0xdata</td>\n",
       "      <td>/funding-round/ae2a174c06517c2394aed45006322a7e</td>\n",
       "      <td>venture</td>\n",
       "      <td>03-01-2013</td>\n",
       "      <td>1700000.0</td>\n",
       "      <td>/organization/0xdata</td>\n",
       "      <td>H2O.ai</td>\n",
       "      <td>http://h2o.ai/</td>\n",
       "      <td>Analytics</td>\n",
       "      <td>operating</td>\n",
       "      <td>USA</td>\n",
       "      <td>CA</td>\n",
       "      <td>SF Bay Area</td>\n",
       "      <td>Mountain View</td>\n",
       "      <td>analytics</td>\n",
       "      <td>Social, Finance, Analytics, Advertising</td>\n",
       "    </tr>\n",
       "  </tbody>\n",
       "</table>\n",
       "</div>"
      ],
      "text/plain": [
       "                     company_permalink  \\\n",
       "0                  /organization/-fame   \n",
       "1                /organization/0-6-com   \n",
       "2  /organization/0ndine-biomedical-inc   \n",
       "3                 /organization/0xdata   \n",
       "4                 /organization/0xdata   \n",
       "\n",
       "                           funding_round_permalink funding_round_type  \\\n",
       "0  /funding-round/9a01d05418af9f794eebff7ace91f638            venture   \n",
       "1  /funding-round/5727accaeaa57461bd22a9bdd945382d            venture   \n",
       "2  /funding-round/954b9499724b946ad8c396a57a5f3b72            venture   \n",
       "3  /funding-round/3bb2ee4a2d89251a10aaa735b1180e44            venture   \n",
       "4  /funding-round/ae2a174c06517c2394aed45006322a7e            venture   \n",
       "\n",
       "    funded_at  raised_amount_usd                            permalink  \\\n",
       "0  05-01-2015         10000000.0                  /organization/-fame   \n",
       "1  19-03-2008          2000000.0                /organization/0-6-com   \n",
       "2  21-12-2009           719491.0  /organization/0ndine-biomedical-inc   \n",
       "3  09-11-2015         20000000.0                 /organization/0xdata   \n",
       "4  03-01-2013          1700000.0                 /organization/0xdata   \n",
       "\n",
       "                     name          homepage_url category_list_x     status  \\\n",
       "0                   #fame    http://livfame.com           Media  operating   \n",
       "1                 0-6.com    http://www.0-6.com     Curated Web  operating   \n",
       "2  Ondine Biomedical Inc.  http://ondinebio.com   Biotechnology  operating   \n",
       "3                  H2O.ai        http://h2o.ai/       Analytics  operating   \n",
       "4                  H2O.ai        http://h2o.ai/       Analytics  operating   \n",
       "\n",
       "  country_code state_code       region           city primary_sector  \\\n",
       "0          IND         16       Mumbai         Mumbai          media   \n",
       "1          CHN         22      Beijing        Beijing    curated web   \n",
       "2          CAN         BC    Vancouver      Vancouver  biotechnology   \n",
       "3          USA         CA  SF Bay Area  Mountain View      analytics   \n",
       "4          USA         CA  SF Bay Area  Mountain View      analytics   \n",
       "\n",
       "                               main_sector  \n",
       "0                            Entertainment  \n",
       "1               News, Search and Messaging  \n",
       "2               Cleantech / Semiconductors  \n",
       "3  Social, Finance, Analytics, Advertising  \n",
       "4  Social, Finance, Analytics, Advertising  "
      ]
     },
     "execution_count": 56,
     "metadata": {},
     "output_type": "execute_result"
    }
   ],
   "source": [
    "top9.head()"
   ]
  },
  {
   "cell_type": "code",
   "execution_count": 57,
   "metadata": {},
   "outputs": [
    {
     "data": {
      "text/html": [
       "<div>\n",
       "<style scoped>\n",
       "    .dataframe tbody tr th:only-of-type {\n",
       "        vertical-align: middle;\n",
       "    }\n",
       "\n",
       "    .dataframe tbody tr th {\n",
       "        vertical-align: top;\n",
       "    }\n",
       "\n",
       "    .dataframe thead th {\n",
       "        text-align: right;\n",
       "    }\n",
       "</style>\n",
       "<table border=\"1\" class=\"dataframe\">\n",
       "  <thead>\n",
       "    <tr style=\"text-align: right;\">\n",
       "      <th></th>\n",
       "      <th>company_permalink</th>\n",
       "      <th>funding_round_permalink</th>\n",
       "      <th>funding_round_type</th>\n",
       "      <th>funded_at</th>\n",
       "      <th>raised_amount_usd</th>\n",
       "      <th>permalink</th>\n",
       "      <th>name</th>\n",
       "      <th>homepage_url</th>\n",
       "      <th>category_list_x</th>\n",
       "      <th>status</th>\n",
       "      <th>country_code</th>\n",
       "      <th>state_code</th>\n",
       "      <th>region</th>\n",
       "      <th>city</th>\n",
       "      <th>primary_sector</th>\n",
       "      <th>main_sector</th>\n",
       "    </tr>\n",
       "  </thead>\n",
       "  <tbody>\n",
       "    <tr>\n",
       "      <th>8353</th>\n",
       "      <td>/organization/clean-vehicle-solutions</td>\n",
       "      <td>/funding-round/7b991c526219c2edff8789942215d93b</td>\n",
       "      <td>venture</td>\n",
       "      <td>26-02-2010</td>\n",
       "      <td>125000.0</td>\n",
       "      <td>/organization/clean-vehicle-solutions</td>\n",
       "      <td>Clean Vehicle Solutions</td>\n",
       "      <td>http://cleanvehiclesolutions.com</td>\n",
       "      <td>Natural Gas Uses|Service Providers|Services</td>\n",
       "      <td>operating</td>\n",
       "      <td>USA</td>\n",
       "      <td>NJ</td>\n",
       "      <td>Newark</td>\n",
       "      <td>East Brunswick</td>\n",
       "      <td>natural gas uses</td>\n",
       "      <td>NaN</td>\n",
       "    </tr>\n",
       "    <tr>\n",
       "      <th>11536</th>\n",
       "      <td>/organization/dolores-speech-products</td>\n",
       "      <td>/funding-round/ba7393d89b2a5ad0c076e2295794c4ce</td>\n",
       "      <td>venture</td>\n",
       "      <td>07-04-2015</td>\n",
       "      <td>250000.0</td>\n",
       "      <td>/organization/dolores-speech-products</td>\n",
       "      <td>Dolores Speech Products</td>\n",
       "      <td>http://doloresspeechproducts.com</td>\n",
       "      <td>Adaptive Equipment|Innovation Management|Speec...</td>\n",
       "      <td>operating</td>\n",
       "      <td>USA</td>\n",
       "      <td>MA</td>\n",
       "      <td>Boston</td>\n",
       "      <td>Wellesley</td>\n",
       "      <td>adaptive equipment</td>\n",
       "      <td>NaN</td>\n",
       "    </tr>\n",
       "    <tr>\n",
       "      <th>14069</th>\n",
       "      <td>/organization/fia-formula-e</td>\n",
       "      <td>/funding-round/19a09624fcf806a4a64809462a4e391c</td>\n",
       "      <td>venture</td>\n",
       "      <td>15-05-2014</td>\n",
       "      <td>68569234.0</td>\n",
       "      <td>/organization/fia-formula-e</td>\n",
       "      <td>FIA Formula E</td>\n",
       "      <td>http://www.fiaformulae.com/</td>\n",
       "      <td>Racing</td>\n",
       "      <td>closed</td>\n",
       "      <td>GBR</td>\n",
       "      <td>F1</td>\n",
       "      <td>GBR - Other</td>\n",
       "      <td>Hammersmith</td>\n",
       "      <td>racing</td>\n",
       "      <td>NaN</td>\n",
       "    </tr>\n",
       "    <tr>\n",
       "      <th>14348</th>\n",
       "      <td>/organization/five-below</td>\n",
       "      <td>/funding-round/2a50c59492585ea4080fa67de755a442</td>\n",
       "      <td>venture</td>\n",
       "      <td>14-10-2010</td>\n",
       "      <td>194000000.0</td>\n",
       "      <td>/organization/five-below</td>\n",
       "      <td>Five Below</td>\n",
       "      <td>http://www.fivebelow.com</td>\n",
       "      <td>Specialty Retail</td>\n",
       "      <td>ipo</td>\n",
       "      <td>USA</td>\n",
       "      <td>PA</td>\n",
       "      <td>Philadelphia</td>\n",
       "      <td>Philadelphia</td>\n",
       "      <td>specialty retail</td>\n",
       "      <td>NaN</td>\n",
       "    </tr>\n",
       "    <tr>\n",
       "      <th>16996</th>\n",
       "      <td>/organization/healthtell</td>\n",
       "      <td>/funding-round/8edf7332fface9972541807a248690b3</td>\n",
       "      <td>venture</td>\n",
       "      <td>13-06-2014</td>\n",
       "      <td>9486929.0</td>\n",
       "      <td>/organization/healthtell</td>\n",
       "      <td>HealthTell</td>\n",
       "      <td>http://www.healthtell.com</td>\n",
       "      <td>Biotechnology and Semiconductor|Diagnostics|He...</td>\n",
       "      <td>operating</td>\n",
       "      <td>USA</td>\n",
       "      <td>CA</td>\n",
       "      <td>SF Bay Area</td>\n",
       "      <td>San Ramon</td>\n",
       "      <td>biotechnology and semiconductor</td>\n",
       "      <td>NaN</td>\n",
       "    </tr>\n",
       "    <tr>\n",
       "      <th>20305</th>\n",
       "      <td>/organization/justinmind</td>\n",
       "      <td>/funding-round/c6e9adcef86247dccf8418dc3e4b9a0b</td>\n",
       "      <td>venture</td>\n",
       "      <td>17-12-2007</td>\n",
       "      <td>862000.0</td>\n",
       "      <td>/organization/justinmind</td>\n",
       "      <td>Justinmind</td>\n",
       "      <td>http://www.justinmind.com</td>\n",
       "      <td>Rapidly Expanding|Software|Usability|User Expe...</td>\n",
       "      <td>operating</td>\n",
       "      <td>USA</td>\n",
       "      <td>CA</td>\n",
       "      <td>SF Bay Area</td>\n",
       "      <td>San Francisco</td>\n",
       "      <td>rapidly expanding</td>\n",
       "      <td>NaN</td>\n",
       "    </tr>\n",
       "    <tr>\n",
       "      <th>27190</th>\n",
       "      <td>/organization/omega-point-research</td>\n",
       "      <td>/funding-round/4870743e3fded9317f5611eb2e848667</td>\n",
       "      <td>venture</td>\n",
       "      <td>14-05-2015</td>\n",
       "      <td>3172815.0</td>\n",
       "      <td>/organization/omega-point-research</td>\n",
       "      <td>Omega Point Research</td>\n",
       "      <td>NaN</td>\n",
       "      <td>Product Search</td>\n",
       "      <td>closed</td>\n",
       "      <td>USA</td>\n",
       "      <td>CA</td>\n",
       "      <td>SF Bay Area</td>\n",
       "      <td>Los Altos</td>\n",
       "      <td>product search</td>\n",
       "      <td>NaN</td>\n",
       "    </tr>\n",
       "    <tr>\n",
       "      <th>33956</th>\n",
       "      <td>/organization/sense-labs-inc-</td>\n",
       "      <td>/funding-round/1ed09dae5b9feaba2ae7f56dd1b9bfd2</td>\n",
       "      <td>venture</td>\n",
       "      <td>29-12-2014</td>\n",
       "      <td>2499999.0</td>\n",
       "      <td>/organization/sense-labs-inc-</td>\n",
       "      <td>Sense</td>\n",
       "      <td>http://sense.com/</td>\n",
       "      <td>GreenTech|Hardware|Home Automation|Internet of...</td>\n",
       "      <td>operating</td>\n",
       "      <td>USA</td>\n",
       "      <td>MA</td>\n",
       "      <td>Boston</td>\n",
       "      <td>Cambridge</td>\n",
       "      <td>greentech</td>\n",
       "      <td>NaN</td>\n",
       "    </tr>\n",
       "    <tr>\n",
       "      <th>34256</th>\n",
       "      <td>/organization/shantiniketan-incorporated</td>\n",
       "      <td>/funding-round/96f7fa1fdcc380649723c8effc2a1062</td>\n",
       "      <td>venture</td>\n",
       "      <td>01-08-2008</td>\n",
       "      <td>1100000.0</td>\n",
       "      <td>/organization/shantiniketan-incorporated</td>\n",
       "      <td>ShantiNiketan Inc.</td>\n",
       "      <td>http://www.shantiniketan-us.com</td>\n",
       "      <td>Retirement</td>\n",
       "      <td>closed</td>\n",
       "      <td>USA</td>\n",
       "      <td>FL</td>\n",
       "      <td>Orlando</td>\n",
       "      <td>Tavares</td>\n",
       "      <td>retirement</td>\n",
       "      <td>NaN</td>\n",
       "    </tr>\n",
       "    <tr>\n",
       "      <th>34257</th>\n",
       "      <td>/organization/shantiniketan-incorporated</td>\n",
       "      <td>/funding-round/c6baca436fa80360921d89a06a0a0e93</td>\n",
       "      <td>venture</td>\n",
       "      <td>01-05-2011</td>\n",
       "      <td>2000000.0</td>\n",
       "      <td>/organization/shantiniketan-incorporated</td>\n",
       "      <td>ShantiNiketan Inc.</td>\n",
       "      <td>http://www.shantiniketan-us.com</td>\n",
       "      <td>Retirement</td>\n",
       "      <td>closed</td>\n",
       "      <td>USA</td>\n",
       "      <td>FL</td>\n",
       "      <td>Orlando</td>\n",
       "      <td>Tavares</td>\n",
       "      <td>retirement</td>\n",
       "      <td>NaN</td>\n",
       "    </tr>\n",
       "    <tr>\n",
       "      <th>40716</th>\n",
       "      <td>/organization/velocomp</td>\n",
       "      <td>/funding-round/2cdceb89206aad240a78e58329cec171</td>\n",
       "      <td>venture</td>\n",
       "      <td>09-09-2011</td>\n",
       "      <td>1420000.0</td>\n",
       "      <td>/organization/velocomp</td>\n",
       "      <td>Velocomp</td>\n",
       "      <td>NaN</td>\n",
       "      <td>Adaptive Equipment|Sporting Goods</td>\n",
       "      <td>operating</td>\n",
       "      <td>USA</td>\n",
       "      <td>FL</td>\n",
       "      <td>Palm Beaches</td>\n",
       "      <td>Boca Raton</td>\n",
       "      <td>adaptive equipment</td>\n",
       "      <td>NaN</td>\n",
       "    </tr>\n",
       "  </tbody>\n",
       "</table>\n",
       "</div>"
      ],
      "text/plain": [
       "                              company_permalink  \\\n",
       "8353      /organization/clean-vehicle-solutions   \n",
       "11536     /organization/dolores-speech-products   \n",
       "14069               /organization/fia-formula-e   \n",
       "14348                  /organization/five-below   \n",
       "16996                  /organization/healthtell   \n",
       "20305                  /organization/justinmind   \n",
       "27190        /organization/omega-point-research   \n",
       "33956             /organization/sense-labs-inc-   \n",
       "34256  /organization/shantiniketan-incorporated   \n",
       "34257  /organization/shantiniketan-incorporated   \n",
       "40716                    /organization/velocomp   \n",
       "\n",
       "                               funding_round_permalink funding_round_type  \\\n",
       "8353   /funding-round/7b991c526219c2edff8789942215d93b            venture   \n",
       "11536  /funding-round/ba7393d89b2a5ad0c076e2295794c4ce            venture   \n",
       "14069  /funding-round/19a09624fcf806a4a64809462a4e391c            venture   \n",
       "14348  /funding-round/2a50c59492585ea4080fa67de755a442            venture   \n",
       "16996  /funding-round/8edf7332fface9972541807a248690b3            venture   \n",
       "20305  /funding-round/c6e9adcef86247dccf8418dc3e4b9a0b            venture   \n",
       "27190  /funding-round/4870743e3fded9317f5611eb2e848667            venture   \n",
       "33956  /funding-round/1ed09dae5b9feaba2ae7f56dd1b9bfd2            venture   \n",
       "34256  /funding-round/96f7fa1fdcc380649723c8effc2a1062            venture   \n",
       "34257  /funding-round/c6baca436fa80360921d89a06a0a0e93            venture   \n",
       "40716  /funding-round/2cdceb89206aad240a78e58329cec171            venture   \n",
       "\n",
       "        funded_at  raised_amount_usd  \\\n",
       "8353   26-02-2010           125000.0   \n",
       "11536  07-04-2015           250000.0   \n",
       "14069  15-05-2014         68569234.0   \n",
       "14348  14-10-2010        194000000.0   \n",
       "16996  13-06-2014          9486929.0   \n",
       "20305  17-12-2007           862000.0   \n",
       "27190  14-05-2015          3172815.0   \n",
       "33956  29-12-2014          2499999.0   \n",
       "34256  01-08-2008          1100000.0   \n",
       "34257  01-05-2011          2000000.0   \n",
       "40716  09-09-2011          1420000.0   \n",
       "\n",
       "                                      permalink                     name  \\\n",
       "8353      /organization/clean-vehicle-solutions  Clean Vehicle Solutions   \n",
       "11536     /organization/dolores-speech-products  Dolores Speech Products   \n",
       "14069               /organization/fia-formula-e            FIA Formula E   \n",
       "14348                  /organization/five-below               Five Below   \n",
       "16996                  /organization/healthtell               HealthTell   \n",
       "20305                  /organization/justinmind               Justinmind   \n",
       "27190        /organization/omega-point-research     Omega Point Research   \n",
       "33956             /organization/sense-labs-inc-                    Sense   \n",
       "34256  /organization/shantiniketan-incorporated       ShantiNiketan Inc.   \n",
       "34257  /organization/shantiniketan-incorporated       ShantiNiketan Inc.   \n",
       "40716                    /organization/velocomp                 Velocomp   \n",
       "\n",
       "                           homepage_url  \\\n",
       "8353   http://cleanvehiclesolutions.com   \n",
       "11536  http://doloresspeechproducts.com   \n",
       "14069       http://www.fiaformulae.com/   \n",
       "14348          http://www.fivebelow.com   \n",
       "16996         http://www.healthtell.com   \n",
       "20305         http://www.justinmind.com   \n",
       "27190                               NaN   \n",
       "33956                 http://sense.com/   \n",
       "34256   http://www.shantiniketan-us.com   \n",
       "34257   http://www.shantiniketan-us.com   \n",
       "40716                               NaN   \n",
       "\n",
       "                                         category_list_x     status  \\\n",
       "8353         Natural Gas Uses|Service Providers|Services  operating   \n",
       "11536  Adaptive Equipment|Innovation Management|Speec...  operating   \n",
       "14069                                             Racing     closed   \n",
       "14348                                   Specialty Retail        ipo   \n",
       "16996  Biotechnology and Semiconductor|Diagnostics|He...  operating   \n",
       "20305  Rapidly Expanding|Software|Usability|User Expe...  operating   \n",
       "27190                                     Product Search     closed   \n",
       "33956  GreenTech|Hardware|Home Automation|Internet of...  operating   \n",
       "34256                                         Retirement     closed   \n",
       "34257                                         Retirement     closed   \n",
       "40716                  Adaptive Equipment|Sporting Goods  operating   \n",
       "\n",
       "      country_code state_code        region            city  \\\n",
       "8353           USA         NJ        Newark  East Brunswick   \n",
       "11536          USA         MA        Boston       Wellesley   \n",
       "14069          GBR         F1   GBR - Other     Hammersmith   \n",
       "14348          USA         PA  Philadelphia    Philadelphia   \n",
       "16996          USA         CA   SF Bay Area       San Ramon   \n",
       "20305          USA         CA   SF Bay Area   San Francisco   \n",
       "27190          USA         CA   SF Bay Area       Los Altos   \n",
       "33956          USA         MA        Boston       Cambridge   \n",
       "34256          USA         FL       Orlando         Tavares   \n",
       "34257          USA         FL       Orlando         Tavares   \n",
       "40716          USA         FL  Palm Beaches      Boca Raton   \n",
       "\n",
       "                        primary_sector main_sector  \n",
       "8353                  natural gas uses         NaN  \n",
       "11536               adaptive equipment         NaN  \n",
       "14069                           racing         NaN  \n",
       "14348                 specialty retail         NaN  \n",
       "16996  biotechnology and semiconductor         NaN  \n",
       "20305                rapidly expanding         NaN  \n",
       "27190                   product search         NaN  \n",
       "33956                        greentech         NaN  \n",
       "34256                       retirement         NaN  \n",
       "34257                       retirement         NaN  \n",
       "40716               adaptive equipment         NaN  "
      ]
     },
     "execution_count": 57,
     "metadata": {},
     "output_type": "execute_result"
    }
   ],
   "source": [
    "top9[top9['main_sector'].isnull()]"
   ]
  },
  {
   "cell_type": "code",
   "execution_count": 58,
   "metadata": {},
   "outputs": [],
   "source": [
    "'''\n",
    "We have few rows where main_sector is NaN. so remove those rows.\n",
    "'''\n",
    "\n",
    "top9 = top9[(pd.notnull(top9['main_sector']))]"
   ]
  },
  {
   "cell_type": "code",
   "execution_count": 59,
   "metadata": {},
   "outputs": [
    {
     "data": {
      "text/html": [
       "<div>\n",
       "<style scoped>\n",
       "    .dataframe tbody tr th:only-of-type {\n",
       "        vertical-align: middle;\n",
       "    }\n",
       "\n",
       "    .dataframe tbody tr th {\n",
       "        vertical-align: top;\n",
       "    }\n",
       "\n",
       "    .dataframe thead th {\n",
       "        text-align: right;\n",
       "    }\n",
       "</style>\n",
       "<table border=\"1\" class=\"dataframe\">\n",
       "  <thead>\n",
       "    <tr style=\"text-align: right;\">\n",
       "      <th></th>\n",
       "      <th>company_permalink</th>\n",
       "      <th>funding_round_permalink</th>\n",
       "      <th>funding_round_type</th>\n",
       "      <th>funded_at</th>\n",
       "      <th>raised_amount_usd</th>\n",
       "      <th>permalink</th>\n",
       "      <th>name</th>\n",
       "      <th>homepage_url</th>\n",
       "      <th>category_list_x</th>\n",
       "      <th>status</th>\n",
       "      <th>country_code</th>\n",
       "      <th>state_code</th>\n",
       "      <th>region</th>\n",
       "      <th>city</th>\n",
       "      <th>primary_sector</th>\n",
       "      <th>main_sector</th>\n",
       "    </tr>\n",
       "  </thead>\n",
       "  <tbody>\n",
       "  </tbody>\n",
       "</table>\n",
       "</div>"
      ],
      "text/plain": [
       "Empty DataFrame\n",
       "Columns: [company_permalink, funding_round_permalink, funding_round_type, funded_at, raised_amount_usd, permalink, name, homepage_url, category_list_x, status, country_code, state_code, region, city, primary_sector, main_sector]\n",
       "Index: []"
      ]
     },
     "execution_count": 59,
     "metadata": {},
     "output_type": "execute_result"
    }
   ],
   "source": [
    "top9[top9['main_sector'].isnull()]"
   ]
  },
  {
   "cell_type": "markdown",
   "metadata": {},
   "source": [
    "### Checkpoint 5: Sector Analysis 2"
   ]
  },
  {
   "cell_type": "code",
   "execution_count": 60,
   "metadata": {},
   "outputs": [],
   "source": [
    "'''\n",
    "Create three separate data frames D1, D2 and D3 for each of the three countries containing the observations \n",
    "of funding type falling within the 5-15 million USD range.\n",
    "'''\n",
    "D1 = top9[top9['country_code']=='USA']\n",
    "D2 = top9[top9['country_code']=='GBR']\n",
    "D3 = top9[top9['country_code']=='IND']\n",
    "\n",
    "D1 = D1[(D1['raised_amount_usd'] >= 5000000) & (D1['raised_amount_usd'] <= 15000000)]\n",
    "D2 = D2[(D2['raised_amount_usd'] >= 5000000) & (D2['raised_amount_usd'] <= 15000000)]\n",
    "D3 = D3[(D3['raised_amount_usd'] >= 5000000) & (D3['raised_amount_usd'] <= 15000000)]\n",
    "# Now we have three data frames. We need to do individual analysis"
   ]
  },
  {
   "cell_type": "markdown",
   "metadata": {},
   "source": [
    "###### USA analysis"
   ]
  },
  {
   "cell_type": "code",
   "execution_count": 61,
   "metadata": {},
   "outputs": [
    {
     "data": {
      "text/plain": [
       "(12063, 16)"
      ]
     },
     "execution_count": 61,
     "metadata": {},
     "output_type": "execute_result"
    }
   ],
   "source": [
    "D1.shape #total number of investments"
   ]
  },
  {
   "cell_type": "code",
   "execution_count": 62,
   "metadata": {},
   "outputs": [
    {
     "data": {
      "text/plain": [
       "107757097294.0"
      ]
     },
     "execution_count": 62,
     "metadata": {},
     "output_type": "execute_result"
    }
   ],
   "source": [
    "D1.raised_amount_usd.sum() # total amount in USA"
   ]
  },
  {
   "cell_type": "code",
   "execution_count": 63,
   "metadata": {},
   "outputs": [
    {
     "data": {
      "text/plain": [
       "main_sector\n",
       "Others                                     2950\n",
       "Social, Finance, Analytics, Advertising    2714\n",
       "Cleantech / Semiconductors                 2350\n",
       "News, Search and Messaging                 1583\n",
       "Health                                      909\n",
       "Name: raised_amount_usd, dtype: int64"
      ]
     },
     "execution_count": 63,
     "metadata": {},
     "output_type": "execute_result"
    }
   ],
   "source": [
    "'''\n",
    "Top Sector name (no. of investment-wise). Ans = Others\n",
    "'''\n",
    "D1.groupby('main_sector')['raised_amount_usd'].count().sort_values(ascending = False).head()"
   ]
  },
  {
   "cell_type": "code",
   "execution_count": 64,
   "metadata": {},
   "outputs": [
    {
     "data": {
      "text/plain": [
       "permalink\n",
       "/organization/virtustream            64300000.0\n",
       "/organization/capella                54968051.0\n",
       "/organization/airtight-networks      54201907.0\n",
       "/organization/decarta                52100000.0\n",
       "/organization/black-duck-software    51000000.0\n",
       "Name: raised_amount_usd, dtype: float64"
      ]
     },
     "execution_count": 64,
     "metadata": {},
     "output_type": "execute_result"
    }
   ],
   "source": [
    "'''\n",
    "which company received the highest investment?(in top sector)\n",
    "'''\n",
    "D1[D1['main_sector']=='Others'].groupby('permalink')['raised_amount_usd'].sum().sort_values(ascending=False).head()"
   ]
  },
  {
   "cell_type": "code",
   "execution_count": 65,
   "metadata": {},
   "outputs": [
    {
     "data": {
      "text/plain": [
       "permalink\n",
       "/organization/shotspotter    67933006.0\n",
       "/organization/demandbase     63000000.0\n",
       "/organization/intacct        61800000.0\n",
       "/organization/netbase        60600000.0\n",
       "/organization/lotame         59700000.0\n",
       "Name: raised_amount_usd, dtype: float64"
      ]
     },
     "execution_count": 65,
     "metadata": {},
     "output_type": "execute_result"
    }
   ],
   "source": [
    "'''\n",
    "which company received the highest investment?(in 2nd top sector)\n",
    "'''\n",
    "D1[D1['main_sector']=='Social, Finance, Analytics, Advertising'].groupby('permalink')['raised_amount_usd'].sum().sort_values(ascending=False).head()"
   ]
  },
  {
   "cell_type": "markdown",
   "metadata": {},
   "source": [
    "###### GBR analysis"
   ]
  },
  {
   "cell_type": "code",
   "execution_count": 66,
   "metadata": {},
   "outputs": [
    {
     "data": {
      "text/plain": [
       "(621, 16)"
      ]
     },
     "execution_count": 66,
     "metadata": {},
     "output_type": "execute_result"
    }
   ],
   "source": [
    "D2.shape #total number of investments"
   ]
  },
  {
   "cell_type": "code",
   "execution_count": 67,
   "metadata": {},
   "outputs": [
    {
     "data": {
      "text/plain": [
       "5379078691.0"
      ]
     },
     "execution_count": 67,
     "metadata": {},
     "output_type": "execute_result"
    }
   ],
   "source": [
    "D2.raised_amount_usd.sum() # total amount in GBR"
   ]
  },
  {
   "cell_type": "code",
   "execution_count": 68,
   "metadata": {},
   "outputs": [
    {
     "data": {
      "text/plain": [
       "main_sector\n",
       "Others                                     147\n",
       "Social, Finance, Analytics, Advertising    133\n",
       "Cleantech / Semiconductors                 130\n",
       "News, Search and Messaging                  73\n",
       "Entertainment                               56\n",
       "Name: raised_amount_usd, dtype: int64"
      ]
     },
     "execution_count": 68,
     "metadata": {},
     "output_type": "execute_result"
    }
   ],
   "source": [
    "'''\n",
    "Top Sector name (no. of investment-wise). Ans = Others\n",
    "'''\n",
    "D2.groupby('main_sector')['raised_amount_usd'].count().sort_values(ascending = False).head()"
   ]
  },
  {
   "cell_type": "code",
   "execution_count": 69,
   "metadata": {},
   "outputs": [
    {
     "data": {
      "text/plain": [
       "permalink\n",
       "/organization/electric-cloud             37000000.0\n",
       "/organization/sensage                    36250000.0\n",
       "/organization/enigmatic                  32500000.0\n",
       "/organization/silverrail-technologies    29000000.0\n",
       "/organization/opencloud                  27972766.0\n",
       "Name: raised_amount_usd, dtype: float64"
      ]
     },
     "execution_count": 69,
     "metadata": {},
     "output_type": "execute_result"
    }
   ],
   "source": [
    "'''\n",
    "which company received the highest investment?(in top sector)\n",
    "'''\n",
    "D2[D2['main_sector']=='Others'].groupby('permalink')['raised_amount_usd'].sum().sort_values(ascending=False).head()"
   ]
  },
  {
   "cell_type": "code",
   "execution_count": 70,
   "metadata": {},
   "outputs": [
    {
     "data": {
      "text/plain": [
       "permalink\n",
       "/organization/celltick-technologies    37500000.0\n",
       "/organization/mythings                 34000000.0\n",
       "/organization/zopa                     32900000.0\n",
       "/organization/imagini                  28550000.0\n",
       "/organization/marketinvoice            25553007.0\n",
       "Name: raised_amount_usd, dtype: float64"
      ]
     },
     "execution_count": 70,
     "metadata": {},
     "output_type": "execute_result"
    }
   ],
   "source": [
    "'''\n",
    "which company received the highest investment?(in 2nd top sector)\n",
    "'''\n",
    "D2[D2['main_sector']=='Social, Finance, Analytics, Advertising'].groupby('permalink')['raised_amount_usd'].sum().sort_values(ascending=False).head()"
   ]
  },
  {
   "cell_type": "markdown",
   "metadata": {},
   "source": [
    "###### IND Analysis"
   ]
  },
  {
   "cell_type": "code",
   "execution_count": 71,
   "metadata": {},
   "outputs": [
    {
     "data": {
      "text/plain": [
       "(328, 16)"
      ]
     },
     "execution_count": 71,
     "metadata": {},
     "output_type": "execute_result"
    }
   ],
   "source": [
    "D3.shape #total number of investments"
   ]
  },
  {
   "cell_type": "code",
   "execution_count": 72,
   "metadata": {},
   "outputs": [
    {
     "data": {
      "text/plain": [
       "2949543602.0"
      ]
     },
     "execution_count": 72,
     "metadata": {},
     "output_type": "execute_result"
    }
   ],
   "source": [
    "D3.raised_amount_usd.sum() # total amount in IND"
   ]
  },
  {
   "cell_type": "code",
   "execution_count": 73,
   "metadata": {},
   "outputs": [
    {
     "data": {
      "text/plain": [
       "main_sector\n",
       "Others                                     110\n",
       "Social, Finance, Analytics, Advertising     60\n",
       "News, Search and Messaging                  52\n",
       "Entertainment                               33\n",
       "Manufacturing                               21\n",
       "Name: raised_amount_usd, dtype: int64"
      ]
     },
     "execution_count": 73,
     "metadata": {},
     "output_type": "execute_result"
    }
   ],
   "source": [
    "'''\n",
    "Top Sector name (no. of investment-wise). Ans = Others\n",
    "'''\n",
    "D3.groupby('main_sector')['raised_amount_usd'].count().sort_values(ascending = False).head()"
   ]
  },
  {
   "cell_type": "code",
   "execution_count": 74,
   "metadata": {},
   "outputs": [
    {
     "data": {
      "text/plain": [
       "permalink\n",
       "/organization/firstcry-com        39000000.0\n",
       "/organization/myntra              38000000.0\n",
       "/organization/commonfloor         32900000.0\n",
       "/organization/pepperfry-com       28000000.0\n",
       "/organization/itzcash-card-ltd    25000000.0\n",
       "Name: raised_amount_usd, dtype: float64"
      ]
     },
     "execution_count": 74,
     "metadata": {},
     "output_type": "execute_result"
    }
   ],
   "source": [
    "'''\n",
    "which company received the highest investment?(in top sector)\n",
    "'''\n",
    "D3[D3['main_sector']=='Others'].groupby('permalink')['raised_amount_usd'].sum().sort_values(ascending=False).head()"
   ]
  },
  {
   "cell_type": "code",
   "execution_count": 75,
   "metadata": {},
   "outputs": [
    {
     "data": {
      "text/plain": [
       "permalink\n",
       "/organization/manthan-systems               50700000.0\n",
       "/organization/komli-media                   28000000.0\n",
       "/organization/shopclues-com                 25000000.0\n",
       "/organization/intarvo                       21900000.0\n",
       "/organization/grameen-financial-services    21556050.0\n",
       "Name: raised_amount_usd, dtype: float64"
      ]
     },
     "execution_count": 75,
     "metadata": {},
     "output_type": "execute_result"
    }
   ],
   "source": [
    "'''\n",
    "which company received the highest investment?(in 2nd top sector)\n",
    "'''\n",
    "D3[D3['main_sector']=='Social, Finance, Analytics, Advertising'].groupby('permalink')['raised_amount_usd'].sum().sort_values(ascending=False).head()"
   ]
  },
  {
   "cell_type": "markdown",
   "metadata": {},
   "source": [
    "### Checkpoint 6: Plots"
   ]
  },
  {
   "cell_type": "markdown",
   "metadata": {},
   "source": [
    "Plot-1: A plot showing the fraction of total investments (globally) in angel, venture, seed, and private equity, and the average amount of investment in each funding type. This chart should make it clear that a certain funding type (FT) is best suited for Spark Funds."
   ]
  },
  {
   "cell_type": "code",
   "execution_count": 76,
   "metadata": {},
   "outputs": [
    {
     "data": {
      "image/png": "[encoded data removed]",
      "text/plain": [
       "<Figure size 864x576 with 1 Axes>"
      ]
     },
     "metadata": {
      "needs_background": "light"
     },
     "output_type": "display_data"
    }
   ],
   "source": [
    "plt.figure(figsize=(12, 8))\n",
    "plot_1=sns.barplot(x='funding_round_type', y='raised_amount_usd', data=master_frame)\n",
    "plot_1.set(xlabel='Funding Type', ylabel='Raised Amount   ( 1 Unit = 10M USD)')\n",
    "plot_1.set_title('Funding Type Analysis')\n",
    "\n",
    "plt.axhline(5000000, color='green')\n",
    "plt.axhline(15000000, color='red')\n",
    "\n",
    "plt.show()"
   ]
  },
  {
   "cell_type": "markdown",
   "metadata": {},
   "source": [
    "Plot-2: A plot showing the top 9 countries against the total amount of investments of funding type FT. This should make the top 3 countries (Country 1, Country 2, and Country 3) very clear."
   ]
  },
  {
   "cell_type": "code",
   "execution_count": 77,
   "metadata": {},
   "outputs": [
    {
     "data": {
      "image/png": "[encoded data removed]",
      "text/plain": [
       "<Figure size 864x576 with 1 Axes>"
      ]
     },
     "metadata": {
      "needs_background": "light"
     },
     "output_type": "display_data"
    }
   ],
   "source": [
    "plt.figure(figsize=(12,8))\n",
    "plot_2=sns.barplot(x='country_code', y='raised_amount_usd', data=top9, estimator=np.sum)\n",
    "# if we wont do this, the bars will be small and it is difficult to tell which country has more investment\n",
    "plot_2.set_yscale('log')\n",
    "plot_2.set(xlabel='Funding Type', ylabel='Raised Amount')\n",
    "plot_2.set_title('Country Analysis')\n",
    "plt.show()"
   ]
  },
  {
   "cell_type": "markdown",
   "metadata": {},
   "source": [
    "Plot-3: A plot showing the number of investments in the top 3 sectors of the top 3 countries on one chart (for the chosen investment type FT). "
   ]
  },
  {
   "cell_type": "markdown",
   "metadata": {},
   "source": [
    "-> Since we have dataframes of top three english speaking countries separately (in D1, D2, D3), we need to create a one dataframe for these three countries (containing only top three sectors of these countries) and plot a bar plot"
   ]
  },
  {
   "cell_type": "code",
   "execution_count": 78,
   "metadata": {},
   "outputs": [],
   "source": [
    "DF_top3 = D1[D1['main_sector'].isin(['Others', 'Cleantech / Semiconductors', 'Social, Finance, Analytics, Advertising'])]"
   ]
  },
  {
   "cell_type": "code",
   "execution_count": 79,
   "metadata": {},
   "outputs": [],
   "source": [
    "# merging top three sectors in D2 to DF_top3\n",
    "DF_top3 = DF_top3.append(D2[D2['main_sector'].isin(['Others', 'Cleantech / Semiconductors', 'Social, Finance, Analytics, Advertising'])], ignore_index=True)"
   ]
  },
  {
   "cell_type": "code",
   "execution_count": 80,
   "metadata": {},
   "outputs": [],
   "source": [
    "# merging top three sectors in D3 to DF_top3\n",
    "DF_top3 = DF_top3.append(D3[D3['main_sector'].isin(['Others', 'Social, Finance, Analytics, Advertising', 'News, Search and Messaging'])], ignore_index=True)"
   ]
  },
  {
   "cell_type": "code",
   "execution_count": 81,
   "metadata": {},
   "outputs": [
    {
     "data": {
      "image/png": "[encoded data removed]",
      "text/plain": [
       "<Figure size 864x576 with 1 Axes>"
      ]
     },
     "metadata": {
      "needs_background": "light"
     },
     "output_type": "display_data"
    }
   ],
   "source": [
    "plt.figure(figsize=(12, 8))\n",
    "\n",
    "# specify hue=\"categorical_variable\"\n",
    "plot_3=sns.barplot(x='country_code', y='raised_amount_usd', hue=\"main_sector\", data=DF_top3,estimator=lambda x: len(x))\n",
    "plot_3.set(xlabel='Country', ylabel='Number of Investments')\n",
    "plot_3.set_title('Investments in top3 sectors of top 3 countries')\n",
    "plt.show()"
   ]
  }
 ],
 "metadata": {
  "kernelspec": {
   "display_name": "Python 3",
   "language": "python",
   "name": "python3"
  },
  "language_info": {
   "codemirror_mode": {
    "name": "ipython",
    "version": 3
   },
   "file_extension": ".py",
   "mimetype": "text/x-python",
   "name": "python",
   "nbconvert_exporter": "python",
   "pygments_lexer": "ipython3",
   "version": "3.7.1"
  }
 },
 "nbformat": 4,
 "nbformat_minor": 4
}
